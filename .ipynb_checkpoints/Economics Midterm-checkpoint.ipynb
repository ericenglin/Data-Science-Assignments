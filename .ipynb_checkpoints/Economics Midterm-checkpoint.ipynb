{
 "cells": [
  {
   "cell_type": "markdown",
   "metadata": {},
   "source": [
    "# Economics of Education: Midterm\n",
    "\n",
    "#### Eric Englin\n"
   ]
  },
  {
   "cell_type": "markdown",
   "metadata": {},
   "source": [
    "## Question 1: True or False\n",
    "\n",
    "A. False, 10% increases scores by 8 percentage points, which would make that the better policy choice. \n",
    "\n",
    "| Policy Option  | Base Rate  | Final Rate  | % Increase|\n",
    "|-------------|-------------|-----|------|\n",
    "| 10%    | 80% | 88% | 10% |\n",
    "| 7 pp  |   80% |   87% | 8.75% |\n",
    "\n",
    "\n",
    "B. False, these would only cost $\\$49$ total. <br>\n",
    "\n",
    "- 5 posters $* \\$7 = \\$35$ <br>\n",
    "- $7$ dry erase markers $ \\$2 = \\$14$. <br>\n",
    "- $\\$35 + \\$14 = \\$49$. \n",
    "\n",
    "C. False, at the $95\\%$ confidence interval, a normal distribution would cross zero with mean 0.08 and variacne 0.045. We would not be able to determine that the return is statistically different from zero. \n",
    "\n",
    "- $0.08 - (\\sqrt{0.045}*2) = 0.08 - (0.21*2) = 0.08 - 0.42 = -0.34$\n",
    "\n",
    "D. True, at a $2\\%$ interest rate, $\\$8,050$ will return $\\$8,211$ after one year. This would provid sufficient money to pay for the local community college. \n",
    "\n",
    "- $\\$8,050 * 1.02 = \\$8,211$\n",
    "- $\\frac{\\$8,160}{(1 + 0.02)^t} = \\frac{\\$8,160}{1.02} =\\$8,000$\n",
    "\n",
    "E. True, as long as the overall time spent studying is kept constant, students should be making tradeoffs between hours spent studying for different classes (assuming there are no external changes to the students possible hours to study)"
   ]
  },
  {
   "cell_type": "markdown",
   "metadata": {},
   "source": [
    "## Question 2: Short Answer\n",
    "\n",
    "A. Classes of discrimination:\n",
    "\n",
    "- Taste based discrimination: Discriminating against someone based on some personal attribute or characteristic, solely due to that characteristic. \n",
    "\n",
    "- Statistical discrimination: Using probabilities to create perceived stereotypes to say that a person has some kind of characteristic. \n",
    "\n",
    "- Self-fulfilling prophecy: Individuals believe discrimination from others, which affects the behavior and outcomes of that individual so as to confirm/reinforce the beliefs from others. \n",
    "\n",
    "B. Taste-based discrimination because the law firm is only discriminating based on the characteristics of the lawyers. Their discrimination puts all lawyers into a Harvard or non-Harvard class despite ability or other characteristics. \n",
    "\n",
    "C. Statistical discrimination because the department chair of physics is essentially saying that Howard grads, on average, are talented students for graduate school. \n",
    "\n",
    "D. Self-fulfilling prophecy. Ms. A does not believe in her students because she does not believe they have the ability to go to college. In turn, her students likely reflect this belief in themselves and go to college less, which furthers this vicious cycle. \n",
    "\n",
    "E. The crucial point in the case is that separate is not equal, so there would be serious ethical concerns with randomly subjecting students to a known lesser outcome for research purposes. A better approach would be to do regression analyses using observational historical data, controlling for major socioeconomic and regional factors. There may also be certain laws or arbitrary cutoffs that we could use to create a quasi-experimental or natural experiment where we can find the effect of a segregated vs non-segregated school, and how that effect varies by race. \n",
    "\n",
    "\n"
   ]
  },
  {
   "cell_type": "markdown",
   "metadata": {},
   "source": [
    "## Question 3: Signaling\n",
    "\n",
    "A. From an analytical standpoint, there are two types of workers/students: high ability and low ability. This goes off the economic theory that education acts largely as a signaling mechanism to decrease asymmetric information between workers and employers. In this case, we want to create a cost of attendance where it is worthwhile for high ability students, but not worthwhile for low ability students (i.e. a separating equilibrium). \n",
    "\n",
    "\n",
    "Formulas:\n",
    "\n",
    "- $c_H = c_O - M$\n",
    "\n",
    "- $c_L = c_O$\n",
    "\n",
    "- $w_H = w_O + \\Delta$\n",
    "\n",
    "- $w_L = w_O$\n",
    "\n",
    "B. If $c_O$ is too low, then low ability students will attend Pennvard, which would not help employers differentiate that Pennvard grads are mainly high ability workers.\n",
    "\n",
    "C. If $c_O$ is too high, then high ability students will not attend Pennvard and instead do something else. \n",
    "\n",
    "D. For high ability students to attend Pennvard rather than not going to college, they must make more in wages than it costs for them to attend the school. This equation is $w_H - c_H > w_L$. By inputting our formulas, that would translate to: \n",
    "\n",
    "- $w_O + \\Delta - (c_O - M) > w_O$\n",
    "- $w_O + \\Delta - c_O + M > w_O$\n",
    "- $w_O - w_O + \\Delta + M > c_O$\n",
    "- $\\Delta + M > c_O$\n",
    "\n",
    "E. For low ability students to not want to attend Pennvard, their costs of attendance must be higher than the benefits or wages as a Pennvard graduate. This equation is $w_L > w_H - c_L$. By inputting our formulas, this would translate to:\n",
    "\n",
    "- $w_O > w_O + \\Delta - c_O$\n",
    "- $w_O - w_O + c_O > \\Delta$\n",
    "- $c_O > \\Delta$\n",
    "\n",
    "F. The school wants the costs to create this separating equilibrium where it effectively combines the previous two equations. This way, the cost is too high for low ability students to want to enroll, but low enough for high ability student to enroll. \n",
    "\n",
    "Equation: $\\Delta + M > c_O > \\Delta$\n",
    "\n",
    "G. Low ability students may be highly related to socioeconomic and demographic factors that are systemic. Without intervention, Pennvard could benefit from these systemic issues, but there is likely a more globally optimal choice to enroll low ability students, allow them to use Pennvard's signaling for greater upward mobility, and partially break these injust systems within society. \n"
   ]
  },
  {
   "cell_type": "markdown",
   "metadata": {},
   "source": [
    "## Question 4: Social Returns to Education\n",
    "\n",
    "A. One factor that affects individual voting and whether an individual has a college degree could be where they live (home address). For this example, we can use a flag if someone lives in Cambridge, MA as something that affects voting and education level.\n",
    "\n",
    "B. Living in Cambridge, MA would have a positive covariance with having a college degree because there are so many universities in the area. Proximity to colleges, labor market competition, and captive grad school population likely influence people having a college degree if they live in Cambridge. \n",
    "\n",
    "C. If your observed and omitted variables are positive, then you are overstating your observed variable. \n",
    "\n",
    "D. 2 conditions to be a good instrumental variable (IV): exclusion and relevance conditions. To fulfill exclusion, IV must not be correlated with error term (omitted variable). To fulfill relevance, IV must be correlated with outcome variable (voting). Table 1 supports that this intervention would be relevant to voting patterns, but I would have doubts about whether people who have publicly listed phone numbers might correlate with other socioeconomic factors. If we could control for these socioeconomic factors in Cambridge during our regression analysis, I would think that this could fulfill the exclusion condition as well. \n",
    "\n",
    "E. Instrumental variable 2 stage least squares equations:\n",
    "\n",
    "- $\\hat{D}_i = \\beta_0 + \\beta_1 * R_i + \\epsilon_i$\n",
    "- $V_i = \\beta_0 + \\beta_1 * \\hat{D}_i + \\epsilon_i$\n",
    "\n",
    "Because the degrees and robocalls are perfectly correlated, $\\hat{D}_i$ is going to be the same values as those observed in the dataset. Given this, our first step is going to give us a $\\beta_1$ of 1 because we are are going to completely explain our variation based on whether someone received a robocall. For our second step, we are essentially running an OLS regression using our existing data, even though we are technically making use of the instrumental variable\n",
    "(more data would help make better use of the 2SLS method).\n",
    "\n",
    "For the second step, I am running the model below in Python and outputting a summary table & graph with linear regression line, along with accompanying code. The final\n",
    "\\(\\beta_1\\) value is 0.6667.\n",
    "\n",
    "\n",
    "\n",
    "\n",
    "**Python:**\n"
   ]
  },
  {
   "cell_type": "code",
   "execution_count": 32,
   "metadata": {},
   "outputs": [
    {
     "name": "stdout",
     "output_type": "stream",
     "text": [
      "                            OLS Regression Results                            \n",
      "==============================================================================\n",
      "Dep. Variable:                  Voted   R-squared:                       0.333\n",
      "Model:                            OLS   Adj. R-squared:                  0.000\n",
      "Method:                 Least Squares   F-statistic:                     1.000\n",
      "Date:                Fri, 13 Mar 2020   Prob (F-statistic):              0.423\n",
      "Time:                        15:01:47   Log-Likelihood:                -2.0922\n",
      "No. Observations:                   4   AIC:                             8.184\n",
      "Df Residuals:                       2   BIC:                             6.957\n",
      "Df Model:                           1                                         \n",
      "Covariance Type:            nonrobust                                         \n",
      "==============================================================================\n",
      "                 coef    std err          t      P>|t|      [0.025      0.975]\n",
      "------------------------------------------------------------------------------\n",
      "const       4.163e-16      0.577   7.21e-16      1.000      -2.484       2.484\n",
      "Degree         0.6667      0.667      1.000      0.423      -2.202       3.535\n",
      "==============================================================================\n",
      "Omnibus:                          nan   Durbin-Watson:                   2.167\n",
      "Prob(Omnibus):                    nan   Jarque-Bera (JB):                0.611\n",
      "Skew:                          -0.816   Prob(JB):                        0.737\n",
      "Kurtosis:                       2.000   Cond. No.                         3.78\n",
      "==============================================================================\n",
      "\n",
      "Warnings:\n",
      "[1] Standard Errors assume that the covariance matrix of the errors is correctly specified.\n"
     ]
    },
    {
     "name": "stderr",
     "output_type": "stream",
     "text": [
      "/Users/ericenglin/opt/anaconda3/lib/python3.7/site-packages/statsmodels/stats/stattools.py:71: ValueWarning: omni_normtest is not valid with less than 8 observations; 4 samples were given.\n",
      "  \"samples were given.\" % int(n), ValueWarning)\n"
     ]
    }
   ],
   "source": [
    "import statsmodels.api as sm\n",
    "\n",
    "data = pd.DataFrame({'Voter_id': [1,2,3,4],\n",
    "                   'Voted':[1,1,0,0],\n",
    "                   'Degree': [1,1,1,0],\n",
    "                   'Robocall':[1,1,1,0]})\n",
    "\n",
    "X_vals = data['Degree']\n",
    "X_vals = sm.add_constant(X_vals, has_constant='add')\n",
    "y_vals = data['Voted']\n",
    "\n",
    "model = sm.OLS(y_vals, X_vals).fit()\n",
    "print(model.summary())"
   ]
  },
  {
   "cell_type": "code",
   "execution_count": 36,
   "metadata": {},
   "outputs": [
    {
     "data": {
      "image/png": "[encoded data removed]",
      "text/plain": [
       "<Figure size 432x288 with 1 Axes>"
      ]
     },
     "metadata": {
      "needs_background": "light"
     },
     "output_type": "display_data"
    }
   ],
   "source": [
    "import matplotlib.pyplot as plt\n",
    "import numpy as np\n",
    "\n",
    "plt.scatter(data['Degree'],data['Voted'])\n",
    "X_plot = np.linspace(0,1)\n",
    "plt.plot(X_plot, X_plot*model.params[1] + model.params[0])\n",
    "plt.xlabel(\"College Degree Flag\")\n",
    "plt.ylabel(\"Voting Flag\")\n",
    "plt.title((\"Equation: Y =\"+str(round(model.params[1],5))+\"*X +\"+str(round(model.params[0],2))))\n",
    "plt.show()\n"
   ]
  },
  {
   "cell_type": "markdown",
   "metadata": {},
   "source": [
    "## Question 5: Using the Tools\n",
    "\n",
    "As a student at Harvard Kennedy School, I will most often be faced with the issue of translating these ideas for people that come from a policy or economics background. For me, I have been getting very interested in this dynamic between the signaling and human capital models, especially as it relates to nontraditional school paths like trade school or online education programs. Using these models, we can evaluate the benefits and potential flaws of education paths. For instance, online learning may provide greater human capital, which could help with social and economic mobility. However, it is incredibly difficult to create an online program difficult enough, or costly, to differentiate students by ability for employers. Conversely, people may enroll in the Harvard Extension School. These students would likely gain human capital and benefit from signaling effects, but it may damage signaling for Harvard students overall. \n",
    "\n",
    "\n",
    "<br>\n",
    "Using these models, we can evaluate a massive swath of policy options to help our school systems. These should prove especially helpful as retraining programs become more popular as policy options, but policymakers will need to consider creating programs that would be successful under both the human capital and signaling models. "
   ]
  }
 ],
 "metadata": {
  "kernelspec": {
   "display_name": "Python 3",
   "language": "python",
   "name": "python3"
  },
  "language_info": {
   "codemirror_mode": {
    "name": "ipython",
    "version": 3
   },
   "file_extension": ".py",
   "mimetype": "text/x-python",
   "name": "python",
   "nbconvert_exporter": "python",
   "pygments_lexer": "ipython3",
   "version": "3.7.4"
  }
 },
 "nbformat": 4,
 "nbformat_minor": 2
}
