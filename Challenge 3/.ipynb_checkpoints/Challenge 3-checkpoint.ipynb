{
 "cells": [
  {
   "cell_type": "code",
   "execution_count": 1,
   "metadata": {},
   "outputs": [
    {
     "name": "stdout",
     "output_type": "stream",
     "text": [
      "Through three cheese trees three free fleas flew. While these fleas flew, freezy breeze blew. Freezy breeze made these three trees freeze. Freezy trees made these trees' cheese freeze. That's what made these three free fleas sneeze.\n",
      "\n",
      "When tweetle beetles fight, it's called a tweetle beetle battle. And when they battle in a puddle, it's a tweetle beetle puddle battle. And when tweetle beetles battle with paddles in a puddle, they call it a tweetle beetle puddle paddle battle. And when beetles battle beetles in a puddle paddle battle and the beetle battle puddle is a puddle in a bottle, they call this a tweetle beetle bottle puddle paddle battle muddle. And when beetles fight these battles in a bottle with their paddles and the bottle's on a poodle and the poodle's eating noodles they call this a muddle puddle tweetle poodle beetle noodle bottle paddle battle.\n"
     ]
    }
   ],
   "source": [
    "challenging_txt = open(\"challenging.txt\",\"r\")  \n",
    "print(challenging_txt.read())"
   ]
  },
  {
   "cell_type": "code",
   "execution_count": 2,
   "metadata": {},
   "outputs": [],
   "source": [
    "consonants = \"bcdfghjklmnpqrstvwxyz\"\n",
    "vowels = (\"aeiou\")\n",
    "punctuation = (\"'.,\")"
   ]
  },
  {
   "cell_type": "code",
   "execution_count": 3,
   "metadata": {},
   "outputs": [],
   "source": [
    "def find_first_vowel(word):\n",
    "    \"\"\"\n",
    "    Find the position of the first vowel within a word\n",
    "    \"\"\"\n",
    "    vowels = (\"aeiou\")\n",
    "    position = 0\n",
    "    vowel_spot = 0\n",
    "    for x in word:\n",
    "        if x in vowels:\n",
    "            vowel_spot=position\n",
    "            return vowel_spot\n",
    "            break\n",
    "        position +=1"
   ]
  },
  {
   "cell_type": "code",
   "execution_count": 4,
   "metadata": {},
   "outputs": [],
   "source": [
    "def fix_punctuation(word):\n",
    "    \"\"\"\n",
    "    Determine if punctuation is in a word\n",
    "    If there is punctuation, move it to the end of word\n",
    "    \"\"\"\n",
    "    import string as s\n",
    "    punctuation = (\"'.,\")\n",
    "    position = 0\n",
    "    vowel_spot = 0\n",
    "    final_word = word+ \" \"\n",
    "    for x in word:\n",
    "        if x in punctuation:\n",
    "            punctuation_spot=position\n",
    "            word_no_punct = word.translate(str.maketrans('','',s.punctuation))\n",
    "            final_word = word_no_punct+word[punctuation_spot]+ \" \"\n",
    "            return final_word\n",
    "            break\n",
    "        position +=1\n",
    "    return final_word"
   ]
  },
  {
   "cell_type": "code",
   "execution_count": 7,
   "metadata": {},
   "outputs": [],
   "source": [
    "z=0\n",
    "with open('challenging.txt','r') as f:\n",
    "    for line in f:\n",
    "        for word in line.split():\n",
    "            word = word.lower()\n",
    "            if word[0] in vowels:\n",
    "                pig_latin_word = word + \"way\"\n",
    "            else:\n",
    "                if word[1] in consonants:\n",
    "                    position = find_first_vowel(word)\n",
    "                    pig_latin_word = word[position:]+word[:position]+\"ay\"\n",
    "                else:\n",
    "                    pig_latin_word = word[1:]+word[0]+\"ay\"\n",
    "            pig_latin_word_final = fix_punctuation(pig_latin_word)\n",
    "            if z==0:\n",
    "                with open(\"pig_latin_challenge.txt\",\"w\") as myfile:\n",
    "                    myfile.write(pig_latin_word_final)\n",
    "            if z>0:\n",
    "                with open(\"pig_latin_challenge.txt\",\"a\") as myfile:\n",
    "                    myfile.write(pig_latin_word_final)\n",
    "            z+=1\n"
   ]
  },
  {
   "cell_type": "code",
   "execution_count": 6,
   "metadata": {},
   "outputs": [
    {
     "name": "stdout",
     "output_type": "stream",
     "text": [
      "oughthray eethray eesechay eestray eethray eefray easflay ewflay. ilewhay esethay easflay ewflay, eezyfray eezebray ewblay. eezyfray eezebray ademay esethay eethray eestray eezefray. eezyfray eestray ademay esethay eestray' eesechay eezefray. atsthay' atwhay ademay esethay eethray eefray easflay eezesnay. enwhay eetletway eetlesbay ightfay, itsway' alledcay away eetletway eetlebay attlebay. andway enwhay eythay attlebay inway away uddlepay, itsway' away eetletway eetlebay uddlepay attlebay. andway enwhay eetletway eetlesbay attlebay ithway addlespay inway away uddlepay, eythay allcay itway away eetletway eetlebay uddlepay addlepay attlebay. andway enwhay eetlesbay attlebay eetlesbay inway away uddlepay addlepay attlebay andway ethay eetlebay attlebay uddlepay isway away uddlepay inway away ottlebay, eythay allcay isthay away eetletway eetlebay ottlebay uddlepay addlepay attlebay uddlemay. andway enwhay eetlesbay ightfay esethay attlesbay inway away ottlebay ithway eirthay addlespay andway ethay ottlesbay' onway away oodlepay andway ethay oodlespay' eatingway oodlesnay eythay allcay isthay away uddlemay uddlepay eetletway oodlepay eetlebay oodlenay ottlebay addlepay attlebay. \n"
     ]
    }
   ],
   "source": [
    "pig_latin_txt = open(\"pig_latin_challenge.txt\",\"r\")  \n",
    "print(pig_latin_txt.read())"
   ]
  }
 ],
 "metadata": {
  "kernelspec": {
   "display_name": "Python 3",
   "language": "python",
   "name": "python3"
  },
  "language_info": {
   "codemirror_mode": {
    "name": "ipython",
    "version": 3
   },
   "file_extension": ".py",
   "mimetype": "text/x-python",
   "name": "python",
   "nbconvert_exporter": "python",
   "pygments_lexer": "ipython3",
   "version": "3.7.5"
  }
 },
 "nbformat": 4,
 "nbformat_minor": 2
}
