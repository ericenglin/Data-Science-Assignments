{
 "cells": [
  {
   "cell_type": "markdown",
   "metadata": {},
   "source": [
    "# <img style=\"float: left; padding-right: 10px; width: 45px\" src=\"https://raw.githubusercontent.com/Harvard-IACS/2018-CS109A/master/content/styles/iacs.png\"> CS109A Introduction to Data Science: \n",
    "\n",
    "## Homework 8: AB Testing\n",
    "\n",
    "\n",
    "**Harvard University**<br/>\n",
    "**Fall 2019**<br/>\n",
    "**Instructors**: Pavlos Protopapas, Kevin Rader and Chris Tanner\n",
    "\n",
    "<hr style=\"height:2pt\">\n",
    "\n"
   ]
  },
  {
   "cell_type": "code",
   "execution_count": 2,
   "metadata": {},
   "outputs": [],
   "source": [
    "import numpy as np\n",
    "import pandas as pd\n",
    "import matplotlib.pyplot as plt\n",
    "\n",
    "import statsmodels as sm\n",
    "import scipy as sp\n"
   ]
  },
  {
   "cell_type": "markdown",
   "metadata": {},
   "source": [
    "### Problem 1: Amazon expenditures\n",
    "\n",
    "Amazon is considering updating their app.  They decide to perform an AB test to determine whether the new version of their app will lead to more expenditures per customer.  Unbeknownst to them, each customer is randomly assigned to either the `old` or `new` version of the app and will interact with the app for an entire month in this selected format.  Total expenditure is measured at the end of the month.\n",
    "\n",
    "The data set ``amazon.csv`` contains a subset of data collected for this AB test.  The variables measured are:\n",
    "\n",
    "- **expenditure**: the amount spent by the customer that month, in dollars\n",
    "- **treatment**: either 'new' or 'old' representing the version of the app\n",
    "- **prime**: a binary indiciator for whether or not the customer is an Amaozn Prime member.\n",
    "\n",
    "**Note**: do not do any transformations on the data for this problem.\n",
    "\n",
    "**1.1** Perform a formal hypothesis test to determine whether the new app has a different average monthly expenditure per customer than the old version of the app.  Report the test statistic and the conclusion from the test in the separate quiz for this assignment.  \n",
    "\n",
    "**1.2** Perform a formal hypothesis test to determine whether the new app has a different average monthly expenditure per customer than the old version of the app within the \n",
    "Prime customers subgroup.  Report the test statistic in the separate quiz for this assignment. \n",
    "\n",
    "**1.3** Perform a formal hypothesis test to determine whether the new app has a different average monthly expenditure per customer than the old version of the app within the \n",
    "non-Prime customers subgroup.  Report the test statistic in the separate quiz for this assignment. \n",
    "\n",
    "**1.4** Provide one glaring way to improve this study based on the results seen above.  This explanation only needs 1 or 2 sentences of justification."
   ]
  },
  {
   "cell_type": "code",
   "execution_count": null,
   "metadata": {},
   "outputs": [],
   "source": []
  },
  {
   "cell_type": "markdown",
   "metadata": {},
   "source": [
    "---"
   ]
  },
  {
   "cell_type": "markdown",
   "metadata": {},
   "source": [
    "### Problem 2: Obama 2008 Data (click-through rate)\n",
    "\n",
    "In this problem, we will step you through analyzing the data we saw in lecture 23 regarding the Obama 2008 data set.\n",
    "\n",
    "**2.1** Perform a formal hypothesis test to determine whether there is a difference in sign-up rates across the 4 button choices.  Report the test statistic and the conclusion from the test in the separate quiz for this assignment.  The sign-up rates were:\n",
    "\n",
    "- `sign up`: $5851/77858 = 0.07515$ \n",
    "- `sign up now`: $5660/77151 = 0.07336$ \n",
    "- `join us now`: $5915/77644 = 0.07618$\n",
    "- `learn= more`: $6927/77729 = 0.08912$\n",
    "\n",
    "**2.2** Perform a formal hypothesis test to determine whether the ``learn more`` button has a different true sign up rate than the default ``sign up`` button that was originally used.  Report the test statistic in the separate quiz for this assignment.\n"
   ]
  },
  {
   "cell_type": "code",
   "execution_count": null,
   "metadata": {},
   "outputs": [],
   "source": []
  },
  {
   "cell_type": "markdown",
   "metadata": {},
   "source": [
    "---"
   ]
  },
  {
   "cell_type": "code",
   "execution_count": null,
   "metadata": {},
   "outputs": [],
   "source": []
  },
  {
   "cell_type": "markdown",
   "metadata": {},
   "source": [
    "### Problem 3: Multiple Comparisons Simulation\n",
    "\n",
    "As mentioned in class, a sequential randomized design is prone to the issue of multiple comparisons.  This problem steps you through determining this and correcting it 2 different ways.  Imagine the following AB test with a binary outcome and 2 treatment groups: after a burn-in period of 1200 subjects (600 in each arm), the appropriate $z$-test for proportions is performed to compare the two groups after every 200 subjects until up to 3000 total subjects are enrolled (so at $n=1200,1400,...,3000$ with exactly half in each group).  If either treatment is deemed statistically significantly better than the other (at a two-sided $\\alpha=0.05$ level), than the study is stopped. \n",
    "\n",
    "Assume that the null hypothesis is true (there is no actual effect of treatment) and the rate of success is truly 20% in both groups (you can think of the response variable as the click-through rate and the treatment groups represent two different website layouts).\n",
    "\n",
    "**3.1** Determine the overall Type I error under these conditions when each test is performed at the $\\alpha=0.05$ level.  Perform 2,000 simulation replicates.  Report this overall Type I error rate in the separate quiz.\n",
    "\n",
    "**3.2** Determine a single $\\alpha$ such that the overall Type I error will be 0.05.  Report this adjusted $\\alpha$ rate in the separate quiz.\n",
    "\n",
    "**3.3** An alternative approach to adjusting $\\alpha$ for multiple comparisons is to vary the $\\alpha$ of each test as the study progresses.  One common approach to doing this is to increase the $\\alpha$ by a specific amount each time a test is run.  So for example, the first test could be run at $\\alpha_1=0.001$, the second at $\\alpha_2=0.002$, the third at $\\alpha_3=0.003$, $\\dots$, the tenth $\\alpha_{10}=0.010$ (these are not necessarily the values needed to fix overall Type I error rate at 0.05).  Provide an advantage to each of the two choices for adjusting $\\alpha$ as described here and in **3.2**. These can be short 1-2 sentence explanations for each.\n",
    "\n"
   ]
  },
  {
   "cell_type": "code",
   "execution_count": null,
   "metadata": {},
   "outputs": [],
   "source": [
    "# Type I error rate: False Positive\n",
    "# Type II error rate: false negative"
   ]
  },
  {
   "cell_type": "code",
   "execution_count": 15,
   "metadata": {},
   "outputs": [],
   "source": [
    "import statsmodels.stats.weightstats as sms"
   ]
  },
  {
   "cell_type": "code",
   "execution_count": 18,
   "metadata": {},
   "outputs": [],
   "source": [
    "from statsmodels.stats.proportion import proportions_ztest"
   ]
  },
  {
   "cell_type": "code",
   "execution_count": 64,
   "metadata": {},
   "outputs": [
    {
     "data": {
      "text/plain": [
       "239836"
      ]
     },
     "execution_count": 64,
     "metadata": {},
     "output_type": "execute_result"
    }
   ],
   "source": [
    "right_survive"
   ]
  },
  {
   "cell_type": "code",
   "execution_count": null,
   "metadata": {},
   "outputs": [],
   "source": []
  },
  {
   "cell_type": "code",
   "execution_count": 94,
   "metadata": {},
   "outputs": [],
   "source": [
    "from random import choices\n",
    "population=[0,1]\n",
    "weights=[0.8,0.2]\n",
    "\n",
    "right_survive = []\n",
    "left_survive = []\n",
    "right_tot = 0\n",
    "left_tot = 0\n",
    "pval_list = []\n",
    "\n",
    "for j in range(0,2000):\n",
    "    right_survive = []\n",
    "    left_survive = []\n",
    "    right_tot = 0\n",
    "    left_tot = 0\n",
    "\n",
    "    z=0\n",
    "    y=1\n",
    "    x=0\n",
    "    arm = right_tot\n",
    "    while x < 2401:\n",
    "        x+=1\n",
    "        if x<600:\n",
    "            right_tot+=1\n",
    "            left_tot+=1\n",
    "            right_survive.append(choices(population, weights)[0])\n",
    "            left_survive.append(choices(population, weights)[0])\n",
    "        if x == 600:\n",
    "            right_tot+=1\n",
    "            left_tot+=1\n",
    "            right_survive.append(choices(population, weights)[0])\n",
    "            left_survive.append(choices(population, weights)[0])\n",
    "            stat, pval =proportions_ztest([sum(left_survive),sum(right_survive)],[left_tot,right_tot])\n",
    "            if pval<0.05:\n",
    "                z=1\n",
    "                pass\n",
    "        \n",
    "        if x > 600:\n",
    "            for survive, tot in zip([left_survive, right_survive],[left_tot, right_tot]):\n",
    "                y=1\n",
    "                while y == 1:\n",
    "                    x+=1\n",
    "                    tot+=1\n",
    "                    surv = choices(population, weights)[0]\n",
    "                    survive.append(surv)\n",
    "                    if x %200 == 0:\n",
    "                        stat, pval =proportions_ztest([sum(left_survive),sum(right_survive)],[left_tot,right_tot])\n",
    "                        if pval<0.05:\n",
    "                            z=1\n",
    "                            pass\n",
    "\n",
    "                    y = surv                \n",
    "                \n",
    "    pval_list.append(z)\n",
    "    "
   ]
  },
  {
   "cell_type": "code",
   "execution_count": 95,
   "metadata": {},
   "outputs": [
    {
     "data": {
      "text/plain": [
       "0.2265"
      ]
     },
     "execution_count": 95,
     "metadata": {},
     "output_type": "execute_result"
    }
   ],
   "source": [
    "sum(pval_list)/len(pval_list)"
   ]
  },
  {
   "cell_type": "code",
   "execution_count": 96,
   "metadata": {},
   "outputs": [
    {
     "data": {
      "text/plain": [
       "2000"
      ]
     },
     "execution_count": 96,
     "metadata": {},
     "output_type": "execute_result"
    }
   ],
   "source": [
    "len(pval_list)"
   ]
  },
  {
   "cell_type": "code",
   "execution_count": 145,
   "metadata": {},
   "outputs": [],
   "source": [
    "from random import choices\n",
    "population=[0,1]\n",
    "weights=[0.8,0.2]\n",
    "\n",
    "right_survive = []\n",
    "left_survive = []\n",
    "right_tot = 0\n",
    "left_tot = 0\n",
    "pval_list2 = []\n",
    "\n",
    "for j in range(0,2000):\n",
    "    right_survive = []\n",
    "    left_survive = []\n",
    "    right_tot = 0\n",
    "    left_tot = 0\n",
    "\n",
    "    z=1\n",
    "    y=1\n",
    "    x=0\n",
    "    arm = right_tot\n",
    "    while x < 3001:\n",
    "        x+=1\n",
    "        if x<600:\n",
    "            right_tot+=1\n",
    "            left_tot+=1\n",
    "            right_survive.append(choices(population, weights)[0])\n",
    "            left_survive.append(choices(population, weights)[0])\n",
    "        if x == 600:\n",
    "            right_tot+=1\n",
    "            left_tot+=1\n",
    "            right_survive.append(choices(population, weights)[0])\n",
    "            left_survive.append(choices(population, weights)[0])\n",
    "            stat, pval =proportions_ztest([sum(left_survive),sum(right_survive)],[left_tot,right_tot])\n",
    "            z=pval\n",
    "        \n",
    "        if x > 600:\n",
    "            y=1\n",
    "            while y == 1:\n",
    "                left_tot+=1\n",
    "                surv = choices(population, weights)[0]\n",
    "                left_survive.append(surv)\n",
    "                if x %200 == 0:\n",
    "                    stat, pval =proportions_ztest([sum(left_survive),sum(right_survive)],[left_tot,right_tot])\n",
    "                    z=min([z, pval])\n",
    "                \n",
    "                x+=1\n",
    "                y = surv                \n",
    "\n",
    "            y=1\n",
    "            while y == 1:\n",
    "                right_tot+=1\n",
    "                surv = choices(population, weights)[0]\n",
    "                right_survive.append(surv)\n",
    "                if x %200 == 0:\n",
    "                    stat, pval =proportions_ztest([sum(left_survive),sum(right_survive)],[left_tot,right_tot])\n",
    "                    z=min([z, pval])\n",
    "                \n",
    "                x+=1\n",
    "                y = surv                \n",
    "    pval_list2.append(z)\n",
    "\n",
    "    \n",
    "    "
   ]
  },
  {
   "cell_type": "code",
   "execution_count": 146,
   "metadata": {},
   "outputs": [
    {
     "data": {
      "text/plain": [
       "100.0"
      ]
     },
     "execution_count": 146,
     "metadata": {},
     "output_type": "execute_result"
    }
   ],
   "source": [
    "len(pval_list2)*0.05"
   ]
  },
  {
   "cell_type": "code",
   "execution_count": 148,
   "metadata": {
    "scrolled": true
   },
   "outputs": [
    {
     "data": {
      "text/plain": [
       "0.017684036050601076"
      ]
     },
     "execution_count": 148,
     "metadata": {},
     "output_type": "execute_result"
    }
   ],
   "source": [
    "pval_list2_sort=sorted(pval_list2)\n",
    "pval_list2_sort[100]"
   ]
  },
  {
   "cell_type": "markdown",
   "metadata": {},
   "source": [
    "3.3 An alternative approach to adjusting  𝛼\n",
    "α\n",
    "  for multiple comparisons is to vary the  𝛼\n",
    "α\n",
    "  of each test as the study progresses. One common approach to doing this is to increase the  𝛼\n",
    "α\n",
    "  by a specific amount each time a test is run. So for example, the first test could be run at  𝛼1=0.001\n",
    "α\n",
    "1\n",
    "=\n",
    "0.001\n",
    " , the second at  𝛼2=0.002\n",
    "α\n",
    "2\n",
    "=\n",
    "0.002\n",
    " , the third at  𝛼3=0.003\n",
    "α\n",
    "3\n",
    "=\n",
    "0.003\n",
    " ,  …\n",
    "…\n",
    " , the tenth  𝛼10=0.010\n",
    "α\n",
    "10\n",
    "=\n",
    "0.010\n",
    "  (these are not necessarily the values needed to fix overall Type I error rate at 0.05). Provide an advantage to each of the two choices for adjusting  𝛼\n",
    "α\n",
    "  as described here and in 3.2. These can be short 1-2 sentence explanations for each."
   ]
  },
  {
   "cell_type": "markdown",
   "metadata": {},
   "source": [
    "**3.3 Answer:**\n",
    "The advantage of using an increasing alpha value would be the better opportunity to stop the experiment earlier, which would be important when testing in medicine. The advantage for the same alpha value could be computational ease, which would be important for very large datasets. "
   ]
  }
 ],
 "metadata": {
  "kernelspec": {
   "display_name": "Python 3",
   "language": "python",
   "name": "python3"
  },
  "language_info": {
   "codemirror_mode": {
    "name": "ipython",
    "version": 3
   },
   "file_extension": ".py",
   "mimetype": "text/x-python",
   "name": "python",
   "nbconvert_exporter": "python",
   "pygments_lexer": "ipython3",
   "version": "3.7.5"
  }
 },
 "nbformat": 4,
 "nbformat_minor": 2
}
