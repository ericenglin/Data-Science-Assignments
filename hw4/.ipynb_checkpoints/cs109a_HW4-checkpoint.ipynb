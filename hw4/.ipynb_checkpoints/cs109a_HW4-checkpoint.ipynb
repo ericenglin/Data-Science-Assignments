{
 "cells": [
  {
   "cell_type": "markdown",
   "metadata": {},
   "source": [
    "\n",
    "# <img style=\"float: left; padding-right: 10px; width: 45px\" src=\"https://raw.githubusercontent.com/Harvard-IACS/2018-CS109A/master/content/styles/iacs.png\"> CS109A Introduction to Data Science\n",
    "\n",
    "## Homework 4: Logistic Regression\n",
    "\n",
    "**Harvard University**<br/>\n",
    "**Fall 2019**<br/>\n",
    "**Instructors**: Pavlos Protopapas, Kevin Rader, and Chris Tanner\n",
    "\n",
    "<hr style=\"height:2pt\">\n",
    "\n"
   ]
  },
  {
   "cell_type": "code",
   "execution_count": 1,
   "metadata": {},
   "outputs": [
    {
     "data": {
      "text/html": [
       "<style>\n",
       "blockquote { background: #AEDE94; }\n",
       "h1 { \n",
       "    padding-top: 25px;\n",
       "    padding-bottom: 25px;\n",
       "    text-align: left; \n",
       "    padding-left: 10px;\n",
       "    background-color: #DDDDDD; \n",
       "    color: black;\n",
       "}\n",
       "h2 { \n",
       "    padding-top: 10px;\n",
       "    padding-bottom: 10px;\n",
       "    text-align: left; \n",
       "    padding-left: 5px;\n",
       "    background-color: #EEEEEE; \n",
       "    color: black;\n",
       "}\n",
       "\n",
       "div.exercise {\n",
       "\tbackground-color: #ffcccc;\n",
       "\tborder-color: #E9967A; \t\n",
       "\tborder-left: 5px solid #800080; \n",
       "\tpadding: 0.5em;\n",
       "}\n",
       "\n",
       "span.sub-q {\n",
       "\tfont-weight: bold;\n",
       "}\n",
       "div.theme {\n",
       "\tbackground-color: #DDDDDD;\n",
       "\tborder-color: #E9967A; \t\n",
       "\tborder-left: 5px solid #800080; \n",
       "\tpadding: 0.5em;\n",
       "\tfont-size: 18pt;\n",
       "}\n",
       "div.gc { \n",
       "\tbackground-color: #AEDE94;\n",
       "\tborder-color: #E9967A; \t \n",
       "\tborder-left: 5px solid #800080; \n",
       "\tpadding: 0.5em;\n",
       "\tfont-size: 12pt;\n",
       "}\n",
       "p.q1 { \n",
       "    padding-top: 5px;\n",
       "    padding-bottom: 5px;\n",
       "    text-align: left; \n",
       "    padding-left: 5px;\n",
       "    background-color: #EEEEEE; \n",
       "    color: black;\n",
       "}\n",
       "header {\n",
       "   padding-top: 35px;\n",
       "    padding-bottom: 35px;\n",
       "    text-align: left; \n",
       "    padding-left: 10px;\n",
       "    background-color: #DDDDDD; \n",
       "    color: black;\n",
       "}\n",
       "</style>\n",
       "\n"
      ],
      "text/plain": [
       "<IPython.core.display.HTML object>"
      ]
     },
     "execution_count": 1,
     "metadata": {},
     "output_type": "execute_result"
    }
   ],
   "source": [
    "#RUN THIS CELL \n",
    "import requests\n",
    "from IPython.core.display import HTML\n",
    "styles = requests.get(\"https://raw.githubusercontent.com/Harvard-IACS/2018-CS109A/master/content/styles/cs109.css\").text\n",
    "HTML(styles)"
   ]
  },
  {
   "cell_type": "markdown",
   "metadata": {},
   "source": [
    "### INSTRUCTIONS\n",
    "\n",
    "- **This is an individual homework. No group collaboration.**\n",
    "- To submit your assignment follow the instructions given in Canvas.\n",
    "- Restart the kernel and run the whole notebook again before you submit. \n",
    "- As much as possible, try and stick to the hints and functions we import at the top of the homework, as those are the ideas and tools the class supports and is aiming to teach. And if a problem specifies a particular library you're required to use that library, and possibly others from the import list.\n",
    "- Please use .head() when viewing data. Do not submit a notebook that is excessively long because output was not suppressed or otherwise limited. "
   ]
  },
  {
   "cell_type": "code",
   "execution_count": 155,
   "metadata": {},
   "outputs": [],
   "source": [
    "import numpy as np\n",
    "import pandas as pd\n",
    "import statsmodels.api as sm\n",
    "from statsmodels.api import OLS\n",
    "\n",
    "\n",
    "\n",
    "from sklearn.linear_model import LinearRegression\n",
    "from sklearn.linear_model import LogisticRegression\n",
    "from sklearn.linear_model import LogisticRegressionCV\n",
    "from sklearn.linear_model import LassoCV\n",
    "\n",
    "from sklearn.neighbors import KNeighborsClassifier\n",
    "from sklearn.model_selection import cross_val_score\n",
    "from sklearn.metrics import accuracy_score\n",
    "from sklearn.model_selection import KFold\n",
    "from sklearn.preprocessing import MinMaxScaler\n",
    "from sklearn.model_selection import train_test_split\n",
    "\n",
    "import matplotlib\n",
    "import matplotlib.pyplot as plt\n",
    "%matplotlib inline\n",
    "\n",
    "import zipfile\n",
    "\n",
    "\n",
    "import seaborn as sns\n",
    "sns.set()\n"
   ]
  },
  {
   "cell_type": "markdown",
   "metadata": {},
   "source": [
    "<div class='theme'> Cancer Classification from Gene Expressions </div>\n",
    "\n",
    "In this problem, we will build a classification model to distinguish between two related classes of cancer, acute lymphoblastic leukemia (ALL) and acute myeloid leukemia (AML), using gene expression measurements. The data set is provided in the file `data/dataset_hw4.csv`. Each row in this file corresponds to a tumor tissue sample from a patient with one of the two forms of Leukemia. The first column contains the cancer type, with **0 indicating the ALL** class and **1 indicating the AML** class. Columns 2-7130 contain expression levels of 7129 genes recorded from each tissue sample. \n",
    "\n",
    "In the following questions, we will use linear and logistic regression to build classification models for this data set. \n"
   ]
  },
  {
   "cell_type": "markdown",
   "metadata": {},
   "source": [
    "<div class='exercise'><b> Question 1 [20 pts]: Data Exploration </b></div>\n",
    "\n",
    "First step is to  split  the observations into an approximate 80-20 train-test split.  Below is some code to do this for you (we want to make sure everyone has the same splits). Print dataset shape before splitting and after splitting. `Cancer_type` is our target column.\n",
    "\n",
    "\n",
    "**1.1** Take a peek at your training set (show a glimpse of what you did): you should notice the severe differences in the measurements from one gene to the next (some are negative, some hover around zero, and some are well into the thousands).  To account for these differences in scale and variability, normalize each predictor to vary between 0 and 1.\n",
    "\n",
    "\n",
    "**1.2** The training set contains more predictors than observations. What problem(s) can this lead to in fitting a classification model to such a data set? Explain in 3 or fewer sentences.\n",
    "\n",
    "\n",
    "**1.3** Identify and report which 10 genes individually discriminate between the two cancer classes the best (consider every gene in the data set).  Note: it wil lbe useful to save this list for future parts.\n",
    "\n",
    "Plot two histograms ofyour best predictor - one using training and another for the testing dataset. Each histogram should clearly distinguish two different `Cancer_type` classes.\n",
    "\n",
    "Hint: You may use t-testing to make this determination: #https://en.wikipedia.org/wiki/Welch%27s_t-test.\n",
    "\n",
    "\n",
    "**1.4** Using your top gene from the previous part (call it  `best_predictor`), create a classification model by manually eye-balling a value for this gene that would discriminate the two classes the best. Justify your choice in 1-2 sentences. Report the accuracy of this hand-chosen model on the test set.\n",
    "\n",
    "<hr> <hr>"
   ]
  },
  {
   "cell_type": "markdown",
   "metadata": {},
   "source": [
    "<hr>\n",
    "### Solutions"
   ]
  },
  {
   "cell_type": "markdown",
   "metadata": {},
   "source": [
    "**First step is to split the observations into an approximate 80-20 train-test split. Below is some code to do this for you (we want to make sure everyone has the same splits). Print dataset shape before splitting and after splitting. `Cancer_type` is our target column.**"
   ]
  },
  {
   "cell_type": "code",
   "execution_count": 7,
   "metadata": {},
   "outputs": [],
   "source": [
    "np.random.seed(10)\n",
    "df = pd.read_csv('data/hw4_enhance.csv', index_col=0)\n",
    "\n",
    "X_train, X_test, y_train, y_test =train_test_split(df.loc[:, df.columns != 'Cancer_type'], \n",
    "                                                         df.Cancer_type, test_size=0.2, \n",
    "                                                         random_state = 109, \n",
    "                                                         stratify = df.Cancer_type)"
   ]
  },
  {
   "cell_type": "code",
   "execution_count": 8,
   "metadata": {},
   "outputs": [
    {
     "name": "stdout",
     "output_type": "stream",
     "text": [
      "(752, 7130)\n",
      "(601, 7129) (151, 7129) (601,) (151,)\n",
      "0.0    0.511968\n",
      "1.0    0.488032\n",
      "Name: Cancer_type, dtype: float64\n"
     ]
    }
   ],
   "source": [
    "print(df.shape)\n",
    "print(X_train.shape, X_test.shape, y_train.shape, y_test.shape)\n",
    "print(df.Cancer_type.value_counts(normalize=True))"
   ]
  },
  {
   "cell_type": "markdown",
   "metadata": {},
   "source": [
    "**1.1 Take a peek at your training set (show a glimpse of what you did): you should notice the severe differences in the measurements from one gene to the next (some are negative, some hover around zero, and some are well into the thousands).  To account for these differences in scale and variability, normalize each predictor to vary between 0 and 1.**\n"
   ]
  },
  {
   "cell_type": "code",
   "execution_count": 30,
   "metadata": {},
   "outputs": [
    {
     "data": {
      "text/plain": [
       "<matplotlib.axes._subplots.AxesSubplot at 0x1a1c533d68>"
      ]
     },
     "execution_count": 30,
     "metadata": {},
     "output_type": "execute_result"
    },
    {
     "data": {
      "image/png": "[encoded data removed]",
      "text/plain": [
       "<Figure size 1000x300 with 2 Axes>"
      ]
     },
     "metadata": {},
     "output_type": "display_data"
    }
   ],
   "source": [
    "fig, axes = plt.subplots(1, 2, figsize=(10, 3), dpi=100)\n",
    "sns.distplot(y_test , color=\"dodgerblue\", ax=axes[0], axlabel='Y Test')\n",
    "sns.distplot(y_train , color=\"deeppink\", ax=axes[1], axlabel='Y Train')\n"
   ]
  },
  {
   "cell_type": "code",
   "execution_count": 31,
   "metadata": {},
   "outputs": [
    {
     "data": {
      "text/html": [
       "<div>\n",
       "<style scoped>\n",
       "    .dataframe tbody tr th:only-of-type {\n",
       "        vertical-align: middle;\n",
       "    }\n",
       "\n",
       "    .dataframe tbody tr th {\n",
       "        vertical-align: top;\n",
       "    }\n",
       "\n",
       "    .dataframe thead th {\n",
       "        text-align: right;\n",
       "    }\n",
       "</style>\n",
       "<table border=\"1\" class=\"dataframe\">\n",
       "  <thead>\n",
       "    <tr style=\"text-align: right;\">\n",
       "      <th></th>\n",
       "      <th>AFFX-BioB-5_at</th>\n",
       "      <th>AFFX-BioB-M_at</th>\n",
       "      <th>AFFX-BioB-3_at</th>\n",
       "      <th>AFFX-BioC-5_at</th>\n",
       "      <th>AFFX-BioC-3_at</th>\n",
       "      <th>AFFX-BioDn-5_at</th>\n",
       "      <th>AFFX-BioDn-3_at</th>\n",
       "      <th>AFFX-CreX-5_at</th>\n",
       "      <th>AFFX-CreX-3_at</th>\n",
       "      <th>AFFX-BioB-5_st</th>\n",
       "      <th>...</th>\n",
       "      <th>U48730_at</th>\n",
       "      <th>U58516_at</th>\n",
       "      <th>U73738_at</th>\n",
       "      <th>X06956_at</th>\n",
       "      <th>X16699_at</th>\n",
       "      <th>X83863_at</th>\n",
       "      <th>Z17240_at</th>\n",
       "      <th>L49218_f_at</th>\n",
       "      <th>M71243_f_at</th>\n",
       "      <th>Z78285_f_at</th>\n",
       "    </tr>\n",
       "  </thead>\n",
       "  <tbody>\n",
       "    <tr>\n",
       "      <th>count</th>\n",
       "      <td>601.000000</td>\n",
       "      <td>601.000000</td>\n",
       "      <td>601.000000</td>\n",
       "      <td>601.000000</td>\n",
       "      <td>601.000000</td>\n",
       "      <td>601.000000</td>\n",
       "      <td>601.000000</td>\n",
       "      <td>601.000000</td>\n",
       "      <td>601.000000</td>\n",
       "      <td>601.000000</td>\n",
       "      <td>...</td>\n",
       "      <td>601.000000</td>\n",
       "      <td>601.000000</td>\n",
       "      <td>601.000000</td>\n",
       "      <td>601.000000</td>\n",
       "      <td>601.000000</td>\n",
       "      <td>601.000000</td>\n",
       "      <td>601.000000</td>\n",
       "      <td>601.000000</td>\n",
       "      <td>601.000000</td>\n",
       "      <td>601.000000</td>\n",
       "    </tr>\n",
       "    <tr>\n",
       "      <th>mean</th>\n",
       "      <td>-115.860969</td>\n",
       "      <td>-160.846155</td>\n",
       "      <td>26.545301</td>\n",
       "      <td>209.733439</td>\n",
       "      <td>-248.992903</td>\n",
       "      <td>-405.422569</td>\n",
       "      <td>-24.135140</td>\n",
       "      <td>-188.491329</td>\n",
       "      <td>74.777098</td>\n",
       "      <td>97.436777</td>\n",
       "      <td>...</td>\n",
       "      <td>161.766492</td>\n",
       "      <td>707.377318</td>\n",
       "      <td>4.198787</td>\n",
       "      <td>421.466477</td>\n",
       "      <td>-50.023954</td>\n",
       "      <td>819.053113</td>\n",
       "      <td>329.803212</td>\n",
       "      <td>8.803791</td>\n",
       "      <td>507.250039</td>\n",
       "      <td>-24.377549</td>\n",
       "    </tr>\n",
       "    <tr>\n",
       "      <th>std</th>\n",
       "      <td>170.571929</td>\n",
       "      <td>188.676919</td>\n",
       "      <td>207.781982</td>\n",
       "      <td>202.987246</td>\n",
       "      <td>207.328054</td>\n",
       "      <td>261.112412</td>\n",
       "      <td>535.143398</td>\n",
       "      <td>163.077167</td>\n",
       "      <td>174.693115</td>\n",
       "      <td>358.897719</td>\n",
       "      <td>...</td>\n",
       "      <td>165.152970</td>\n",
       "      <td>526.644408</td>\n",
       "      <td>152.401188</td>\n",
       "      <td>589.914084</td>\n",
       "      <td>106.864078</td>\n",
       "      <td>814.898058</td>\n",
       "      <td>367.788891</td>\n",
       "      <td>85.397644</td>\n",
       "      <td>939.394188</td>\n",
       "      <td>71.102874</td>\n",
       "    </tr>\n",
       "    <tr>\n",
       "      <th>min</th>\n",
       "      <td>-894.789505</td>\n",
       "      <td>-1095.737090</td>\n",
       "      <td>-645.439001</td>\n",
       "      <td>-425.750627</td>\n",
       "      <td>-1154.285694</td>\n",
       "      <td>-1091.492494</td>\n",
       "      <td>-2066.516448</td>\n",
       "      <td>-728.996262</td>\n",
       "      <td>-770.025847</td>\n",
       "      <td>-1176.663615</td>\n",
       "      <td>...</td>\n",
       "      <td>-501.285884</td>\n",
       "      <td>-1010.430536</td>\n",
       "      <td>-447.077819</td>\n",
       "      <td>-1870.955269</td>\n",
       "      <td>-432.967768</td>\n",
       "      <td>-2151.593119</td>\n",
       "      <td>-651.051441</td>\n",
       "      <td>-255.419724</td>\n",
       "      <td>-2754.665185</td>\n",
       "      <td>-237.864216</td>\n",
       "    </tr>\n",
       "    <tr>\n",
       "      <th>25%</th>\n",
       "      <td>-222.586579</td>\n",
       "      <td>-270.502055</td>\n",
       "      <td>-95.000000</td>\n",
       "      <td>85.327810</td>\n",
       "      <td>-379.048622</td>\n",
       "      <td>-567.547758</td>\n",
       "      <td>-338.435164</td>\n",
       "      <td>-302.872287</td>\n",
       "      <td>-20.739507</td>\n",
       "      <td>-117.000000</td>\n",
       "      <td>...</td>\n",
       "      <td>67.861184</td>\n",
       "      <td>361.596510</td>\n",
       "      <td>-88.660905</td>\n",
       "      <td>88.409441</td>\n",
       "      <td>-105.000000</td>\n",
       "      <td>270.198265</td>\n",
       "      <td>90.825501</td>\n",
       "      <td>-40.391630</td>\n",
       "      <td>-50.785999</td>\n",
       "      <td>-73.000000</td>\n",
       "    </tr>\n",
       "    <tr>\n",
       "      <th>50%</th>\n",
       "      <td>-105.139096</td>\n",
       "      <td>-145.829450</td>\n",
       "      <td>21.183690</td>\n",
       "      <td>207.291048</td>\n",
       "      <td>-231.007621</td>\n",
       "      <td>-433.214742</td>\n",
       "      <td>-39.581881</td>\n",
       "      <td>-175.586059</td>\n",
       "      <td>90.170754</td>\n",
       "      <td>101.975176</td>\n",
       "      <td>...</td>\n",
       "      <td>153.253301</td>\n",
       "      <td>679.935520</td>\n",
       "      <td>9.960900</td>\n",
       "      <td>381.000000</td>\n",
       "      <td>-35.000000</td>\n",
       "      <td>749.281111</td>\n",
       "      <td>296.978609</td>\n",
       "      <td>7.968505</td>\n",
       "      <td>407.942117</td>\n",
       "      <td>-25.403427</td>\n",
       "    </tr>\n",
       "    <tr>\n",
       "      <th>75%</th>\n",
       "      <td>-4.789696</td>\n",
       "      <td>-40.599329</td>\n",
       "      <td>127.821586</td>\n",
       "      <td>331.277808</td>\n",
       "      <td>-116.000000</td>\n",
       "      <td>-252.587379</td>\n",
       "      <td>325.000000</td>\n",
       "      <td>-74.379003</td>\n",
       "      <td>190.551199</td>\n",
       "      <td>288.503617</td>\n",
       "      <td>...</td>\n",
       "      <td>263.112797</td>\n",
       "      <td>1076.075567</td>\n",
       "      <td>96.051876</td>\n",
       "      <td>720.339588</td>\n",
       "      <td>19.775025</td>\n",
       "      <td>1286.343005</td>\n",
       "      <td>521.096719</td>\n",
       "      <td>62.794411</td>\n",
       "      <td>1092.430279</td>\n",
       "      <td>19.740635</td>\n",
       "    </tr>\n",
       "    <tr>\n",
       "      <th>max</th>\n",
       "      <td>516.618491</td>\n",
       "      <td>384.626762</td>\n",
       "      <td>748.233182</td>\n",
       "      <td>1022.560525</td>\n",
       "      <td>308.876677</td>\n",
       "      <td>607.737258</td>\n",
       "      <td>1385.881293</td>\n",
       "      <td>263.634029</td>\n",
       "      <td>589.778466</td>\n",
       "      <td>1355.537180</td>\n",
       "      <td>...</td>\n",
       "      <td>686.321597</td>\n",
       "      <td>2522.188808</td>\n",
       "      <td>481.820516</td>\n",
       "      <td>3982.980299</td>\n",
       "      <td>215.047697</td>\n",
       "      <td>3743.264860</td>\n",
       "      <td>1996.244626</td>\n",
       "      <td>274.575647</td>\n",
       "      <td>3315.374276</td>\n",
       "      <td>224.773440</td>\n",
       "    </tr>\n",
       "  </tbody>\n",
       "</table>\n",
       "<p>8 rows × 7129 columns</p>\n",
       "</div>"
      ],
      "text/plain": [
       "       AFFX-BioB-5_at  AFFX-BioB-M_at  AFFX-BioB-3_at  AFFX-BioC-5_at  \\\n",
       "count      601.000000      601.000000      601.000000      601.000000   \n",
       "mean      -115.860969     -160.846155       26.545301      209.733439   \n",
       "std        170.571929      188.676919      207.781982      202.987246   \n",
       "min       -894.789505    -1095.737090     -645.439001     -425.750627   \n",
       "25%       -222.586579     -270.502055      -95.000000       85.327810   \n",
       "50%       -105.139096     -145.829450       21.183690      207.291048   \n",
       "75%         -4.789696      -40.599329      127.821586      331.277808   \n",
       "max        516.618491      384.626762      748.233182     1022.560525   \n",
       "\n",
       "       AFFX-BioC-3_at  AFFX-BioDn-5_at  AFFX-BioDn-3_at  AFFX-CreX-5_at  \\\n",
       "count      601.000000       601.000000       601.000000      601.000000   \n",
       "mean      -248.992903      -405.422569       -24.135140     -188.491329   \n",
       "std        207.328054       261.112412       535.143398      163.077167   \n",
       "min      -1154.285694     -1091.492494     -2066.516448     -728.996262   \n",
       "25%       -379.048622      -567.547758      -338.435164     -302.872287   \n",
       "50%       -231.007621      -433.214742       -39.581881     -175.586059   \n",
       "75%       -116.000000      -252.587379       325.000000      -74.379003   \n",
       "max        308.876677       607.737258      1385.881293      263.634029   \n",
       "\n",
       "       AFFX-CreX-3_at  AFFX-BioB-5_st     ...        U48730_at    U58516_at  \\\n",
       "count      601.000000      601.000000     ...       601.000000   601.000000   \n",
       "mean        74.777098       97.436777     ...       161.766492   707.377318   \n",
       "std        174.693115      358.897719     ...       165.152970   526.644408   \n",
       "min       -770.025847    -1176.663615     ...      -501.285884 -1010.430536   \n",
       "25%        -20.739507     -117.000000     ...        67.861184   361.596510   \n",
       "50%         90.170754      101.975176     ...       153.253301   679.935520   \n",
       "75%        190.551199      288.503617     ...       263.112797  1076.075567   \n",
       "max        589.778466     1355.537180     ...       686.321597  2522.188808   \n",
       "\n",
       "        U73738_at    X06956_at   X16699_at    X83863_at    Z17240_at  \\\n",
       "count  601.000000   601.000000  601.000000   601.000000   601.000000   \n",
       "mean     4.198787   421.466477  -50.023954   819.053113   329.803212   \n",
       "std    152.401188   589.914084  106.864078   814.898058   367.788891   \n",
       "min   -447.077819 -1870.955269 -432.967768 -2151.593119  -651.051441   \n",
       "25%    -88.660905    88.409441 -105.000000   270.198265    90.825501   \n",
       "50%      9.960900   381.000000  -35.000000   749.281111   296.978609   \n",
       "75%     96.051876   720.339588   19.775025  1286.343005   521.096719   \n",
       "max    481.820516  3982.980299  215.047697  3743.264860  1996.244626   \n",
       "\n",
       "       L49218_f_at  M71243_f_at  Z78285_f_at  \n",
       "count   601.000000   601.000000   601.000000  \n",
       "mean      8.803791   507.250039   -24.377549  \n",
       "std      85.397644   939.394188    71.102874  \n",
       "min    -255.419724 -2754.665185  -237.864216  \n",
       "25%     -40.391630   -50.785999   -73.000000  \n",
       "50%       7.968505   407.942117   -25.403427  \n",
       "75%      62.794411  1092.430279    19.740635  \n",
       "max     274.575647  3315.374276   224.773440  \n",
       "\n",
       "[8 rows x 7129 columns]"
      ]
     },
     "execution_count": 31,
     "metadata": {},
     "output_type": "execute_result"
    }
   ],
   "source": [
    "X_train.describe()"
   ]
  },
  {
   "cell_type": "code",
   "execution_count": 45,
   "metadata": {},
   "outputs": [],
   "source": [
    "from sklearn import preprocessing\n",
    "X_train_array = X_train.values #returns a numpy array\n",
    "min_max_scaler = preprocessing.MinMaxScaler()\n",
    "x_scaled = min_max_scaler.fit_transform(X_train_array)\n",
    "normalized_X_train = pd.DataFrame(x_scaled)\n",
    "normalized_X_train.columns = X_train.columns"
   ]
  },
  {
   "cell_type": "code",
   "execution_count": 46,
   "metadata": {},
   "outputs": [
    {
     "data": {
      "text/html": [
       "<div>\n",
       "<style scoped>\n",
       "    .dataframe tbody tr th:only-of-type {\n",
       "        vertical-align: middle;\n",
       "    }\n",
       "\n",
       "    .dataframe tbody tr th {\n",
       "        vertical-align: top;\n",
       "    }\n",
       "\n",
       "    .dataframe thead th {\n",
       "        text-align: right;\n",
       "    }\n",
       "</style>\n",
       "<table border=\"1\" class=\"dataframe\">\n",
       "  <thead>\n",
       "    <tr style=\"text-align: right;\">\n",
       "      <th></th>\n",
       "      <th>AFFX-BioB-5_at</th>\n",
       "      <th>AFFX-BioB-M_at</th>\n",
       "      <th>AFFX-BioB-3_at</th>\n",
       "      <th>AFFX-BioC-5_at</th>\n",
       "      <th>AFFX-BioC-3_at</th>\n",
       "      <th>AFFX-BioDn-5_at</th>\n",
       "      <th>AFFX-BioDn-3_at</th>\n",
       "      <th>AFFX-CreX-5_at</th>\n",
       "      <th>AFFX-CreX-3_at</th>\n",
       "      <th>AFFX-BioB-5_st</th>\n",
       "      <th>...</th>\n",
       "      <th>U48730_at</th>\n",
       "      <th>U58516_at</th>\n",
       "      <th>U73738_at</th>\n",
       "      <th>X06956_at</th>\n",
       "      <th>X16699_at</th>\n",
       "      <th>X83863_at</th>\n",
       "      <th>Z17240_at</th>\n",
       "      <th>L49218_f_at</th>\n",
       "      <th>M71243_f_at</th>\n",
       "      <th>Z78285_f_at</th>\n",
       "    </tr>\n",
       "  </thead>\n",
       "  <tbody>\n",
       "    <tr>\n",
       "      <th>count</th>\n",
       "      <td>601.000000</td>\n",
       "      <td>601.000000</td>\n",
       "      <td>601.000000</td>\n",
       "      <td>601.000000</td>\n",
       "      <td>601.000000</td>\n",
       "      <td>601.000000</td>\n",
       "      <td>601.000000</td>\n",
       "      <td>601.000000</td>\n",
       "      <td>601.000000</td>\n",
       "      <td>601.000000</td>\n",
       "      <td>...</td>\n",
       "      <td>601.000000</td>\n",
       "      <td>601.000000</td>\n",
       "      <td>601.000000</td>\n",
       "      <td>601.000000</td>\n",
       "      <td>601.000000</td>\n",
       "      <td>601.000000</td>\n",
       "      <td>601.000000</td>\n",
       "      <td>601.000000</td>\n",
       "      <td>601.000000</td>\n",
       "      <td>601.000000</td>\n",
       "    </tr>\n",
       "    <tr>\n",
       "      <th>mean</th>\n",
       "      <td>0.551880</td>\n",
       "      <td>0.631528</td>\n",
       "      <td>0.482168</td>\n",
       "      <td>0.438776</td>\n",
       "      <td>0.618723</td>\n",
       "      <td>0.403753</td>\n",
       "      <td>0.591583</td>\n",
       "      <td>0.544518</td>\n",
       "      <td>0.621268</td>\n",
       "      <td>0.503159</td>\n",
       "      <td>...</td>\n",
       "      <td>0.558309</td>\n",
       "      <td>0.486270</td>\n",
       "      <td>0.485819</td>\n",
       "      <td>0.391604</td>\n",
       "      <td>0.590949</td>\n",
       "      <td>0.503939</td>\n",
       "      <td>0.370512</td>\n",
       "      <td>0.498539</td>\n",
       "      <td>0.537380</td>\n",
       "      <td>0.461455</td>\n",
       "    </tr>\n",
       "    <tr>\n",
       "      <th>std</th>\n",
       "      <td>0.120852</td>\n",
       "      <td>0.127453</td>\n",
       "      <td>0.149090</td>\n",
       "      <td>0.140154</td>\n",
       "      <td>0.141699</td>\n",
       "      <td>0.153665</td>\n",
       "      <td>0.155006</td>\n",
       "      <td>0.164288</td>\n",
       "      <td>0.128469</td>\n",
       "      <td>0.141734</td>\n",
       "      <td>...</td>\n",
       "      <td>0.139064</td>\n",
       "      <td>0.149080</td>\n",
       "      <td>0.164067</td>\n",
       "      <td>0.100772</td>\n",
       "      <td>0.164910</td>\n",
       "      <td>0.138239</td>\n",
       "      <td>0.138930</td>\n",
       "      <td>0.161129</td>\n",
       "      <td>0.154759</td>\n",
       "      <td>0.153690</td>\n",
       "    </tr>\n",
       "    <tr>\n",
       "      <th>min</th>\n",
       "      <td>0.000000</td>\n",
       "      <td>0.000000</td>\n",
       "      <td>0.000000</td>\n",
       "      <td>0.000000</td>\n",
       "      <td>0.000000</td>\n",
       "      <td>0.000000</td>\n",
       "      <td>0.000000</td>\n",
       "      <td>0.000000</td>\n",
       "      <td>0.000000</td>\n",
       "      <td>0.000000</td>\n",
       "      <td>...</td>\n",
       "      <td>0.000000</td>\n",
       "      <td>0.000000</td>\n",
       "      <td>0.000000</td>\n",
       "      <td>0.000000</td>\n",
       "      <td>0.000000</td>\n",
       "      <td>0.000000</td>\n",
       "      <td>0.000000</td>\n",
       "      <td>0.000000</td>\n",
       "      <td>0.000000</td>\n",
       "      <td>0.000000</td>\n",
       "    </tr>\n",
       "    <tr>\n",
       "      <th>25%</th>\n",
       "      <td>0.476264</td>\n",
       "      <td>0.557454</td>\n",
       "      <td>0.394956</td>\n",
       "      <td>0.352879</td>\n",
       "      <td>0.529837</td>\n",
       "      <td>0.308342</td>\n",
       "      <td>0.500545</td>\n",
       "      <td>0.429288</td>\n",
       "      <td>0.551025</td>\n",
       "      <td>0.418475</td>\n",
       "      <td>...</td>\n",
       "      <td>0.479238</td>\n",
       "      <td>0.388388</td>\n",
       "      <td>0.385852</td>\n",
       "      <td>0.334709</td>\n",
       "      <td>0.506111</td>\n",
       "      <td>0.410831</td>\n",
       "      <td>0.280240</td>\n",
       "      <td>0.405717</td>\n",
       "      <td>0.445447</td>\n",
       "      <td>0.356357</td>\n",
       "    </tr>\n",
       "    <tr>\n",
       "      <th>50%</th>\n",
       "      <td>0.559477</td>\n",
       "      <td>0.641672</td>\n",
       "      <td>0.478321</td>\n",
       "      <td>0.437090</td>\n",
       "      <td>0.631015</td>\n",
       "      <td>0.387398</td>\n",
       "      <td>0.587109</td>\n",
       "      <td>0.557519</td>\n",
       "      <td>0.632589</td>\n",
       "      <td>0.504952</td>\n",
       "      <td>...</td>\n",
       "      <td>0.551141</td>\n",
       "      <td>0.478502</td>\n",
       "      <td>0.492022</td>\n",
       "      <td>0.384691</td>\n",
       "      <td>0.614133</td>\n",
       "      <td>0.492102</td>\n",
       "      <td>0.358113</td>\n",
       "      <td>0.496963</td>\n",
       "      <td>0.521019</td>\n",
       "      <td>0.459238</td>\n",
       "    </tr>\n",
       "    <tr>\n",
       "      <th>75%</th>\n",
       "      <td>0.630576</td>\n",
       "      <td>0.712756</td>\n",
       "      <td>0.554837</td>\n",
       "      <td>0.522697</td>\n",
       "      <td>0.709618</td>\n",
       "      <td>0.493697</td>\n",
       "      <td>0.692712</td>\n",
       "      <td>0.659477</td>\n",
       "      <td>0.706408</td>\n",
       "      <td>0.578614</td>\n",
       "      <td>...</td>\n",
       "      <td>0.643646</td>\n",
       "      <td>0.590640</td>\n",
       "      <td>0.584703</td>\n",
       "      <td>0.442659</td>\n",
       "      <td>0.698660</td>\n",
       "      <td>0.583209</td>\n",
       "      <td>0.442772</td>\n",
       "      <td>0.600409</td>\n",
       "      <td>0.633784</td>\n",
       "      <td>0.556818</td>\n",
       "    </tr>\n",
       "    <tr>\n",
       "      <th>max</th>\n",
       "      <td>1.000000</td>\n",
       "      <td>1.000000</td>\n",
       "      <td>1.000000</td>\n",
       "      <td>1.000000</td>\n",
       "      <td>1.000000</td>\n",
       "      <td>1.000000</td>\n",
       "      <td>1.000000</td>\n",
       "      <td>1.000000</td>\n",
       "      <td>1.000000</td>\n",
       "      <td>1.000000</td>\n",
       "      <td>...</td>\n",
       "      <td>1.000000</td>\n",
       "      <td>1.000000</td>\n",
       "      <td>1.000000</td>\n",
       "      <td>1.000000</td>\n",
       "      <td>1.000000</td>\n",
       "      <td>1.000000</td>\n",
       "      <td>1.000000</td>\n",
       "      <td>1.000000</td>\n",
       "      <td>1.000000</td>\n",
       "      <td>1.000000</td>\n",
       "    </tr>\n",
       "  </tbody>\n",
       "</table>\n",
       "<p>8 rows × 7129 columns</p>\n",
       "</div>"
      ],
      "text/plain": [
       "       AFFX-BioB-5_at  AFFX-BioB-M_at  AFFX-BioB-3_at  AFFX-BioC-5_at  \\\n",
       "count      601.000000      601.000000      601.000000      601.000000   \n",
       "mean         0.551880        0.631528        0.482168        0.438776   \n",
       "std          0.120852        0.127453        0.149090        0.140154   \n",
       "min          0.000000        0.000000        0.000000        0.000000   \n",
       "25%          0.476264        0.557454        0.394956        0.352879   \n",
       "50%          0.559477        0.641672        0.478321        0.437090   \n",
       "75%          0.630576        0.712756        0.554837        0.522697   \n",
       "max          1.000000        1.000000        1.000000        1.000000   \n",
       "\n",
       "       AFFX-BioC-3_at  AFFX-BioDn-5_at  AFFX-BioDn-3_at  AFFX-CreX-5_at  \\\n",
       "count      601.000000       601.000000       601.000000      601.000000   \n",
       "mean         0.618723         0.403753         0.591583        0.544518   \n",
       "std          0.141699         0.153665         0.155006        0.164288   \n",
       "min          0.000000         0.000000         0.000000        0.000000   \n",
       "25%          0.529837         0.308342         0.500545        0.429288   \n",
       "50%          0.631015         0.387398         0.587109        0.557519   \n",
       "75%          0.709618         0.493697         0.692712        0.659477   \n",
       "max          1.000000         1.000000         1.000000        1.000000   \n",
       "\n",
       "       AFFX-CreX-3_at  AFFX-BioB-5_st     ...        U48730_at   U58516_at  \\\n",
       "count      601.000000      601.000000     ...       601.000000  601.000000   \n",
       "mean         0.621268        0.503159     ...         0.558309    0.486270   \n",
       "std          0.128469        0.141734     ...         0.139064    0.149080   \n",
       "min          0.000000        0.000000     ...         0.000000    0.000000   \n",
       "25%          0.551025        0.418475     ...         0.479238    0.388388   \n",
       "50%          0.632589        0.504952     ...         0.551141    0.478502   \n",
       "75%          0.706408        0.578614     ...         0.643646    0.590640   \n",
       "max          1.000000        1.000000     ...         1.000000    1.000000   \n",
       "\n",
       "        U73738_at   X06956_at   X16699_at   X83863_at   Z17240_at  \\\n",
       "count  601.000000  601.000000  601.000000  601.000000  601.000000   \n",
       "mean     0.485819    0.391604    0.590949    0.503939    0.370512   \n",
       "std      0.164067    0.100772    0.164910    0.138239    0.138930   \n",
       "min      0.000000    0.000000    0.000000    0.000000    0.000000   \n",
       "25%      0.385852    0.334709    0.506111    0.410831    0.280240   \n",
       "50%      0.492022    0.384691    0.614133    0.492102    0.358113   \n",
       "75%      0.584703    0.442659    0.698660    0.583209    0.442772   \n",
       "max      1.000000    1.000000    1.000000    1.000000    1.000000   \n",
       "\n",
       "       L49218_f_at  M71243_f_at  Z78285_f_at  \n",
       "count   601.000000   601.000000   601.000000  \n",
       "mean      0.498539     0.537380     0.461455  \n",
       "std       0.161129     0.154759     0.153690  \n",
       "min       0.000000     0.000000     0.000000  \n",
       "25%       0.405717     0.445447     0.356357  \n",
       "50%       0.496963     0.521019     0.459238  \n",
       "75%       0.600409     0.633784     0.556818  \n",
       "max       1.000000     1.000000     1.000000  \n",
       "\n",
       "[8 rows x 7129 columns]"
      ]
     },
     "execution_count": 46,
     "metadata": {},
     "output_type": "execute_result"
    }
   ],
   "source": [
    "normalized_X_train.describe()"
   ]
  },
  {
   "cell_type": "markdown",
   "metadata": {},
   "source": [
    "**1.2 The training set contains more predictors than observations. What problem(s) can this lead to in fitting a classification model to such a data set? Explain in 3 or fewer sentences.**"
   ]
  },
  {
   "cell_type": "markdown",
   "metadata": {},
   "source": [
    "**Answer:**\n",
    "The large dimensionality can mean that some of the columns may be related to the outcome variable by luck, rather than any kind of causal relationship. "
   ]
  },
  {
   "cell_type": "markdown",
   "metadata": {},
   "source": [
    "**1.3** **Identify and report which 10 genes individually discriminate between the two cancer classes the best (consider every gene in the data set).  Note: it wil lbe useful to save this list for future parts.**\n",
    "\n",
    "**Plot two histograms of your best predictor - one using training and another for the testing dataset. Each histogram should clearly distinguish two different `Cancer_type` classes.**\n",
    "\n",
    "**Hint: You may use t-testing to make this determination: #https://en.wikipedia.org/wiki/Welch%27s_t-test.**"
   ]
  },
  {
   "cell_type": "code",
   "execution_count": 93,
   "metadata": {
    "scrolled": true
   },
   "outputs": [],
   "source": [
    "import scipy\n",
    "t_test_results = {}\n",
    "AML = normalized_X_train.where(y_train== 1).dropna()\n",
    "ALL = normalized_X_train.where(y_train== 0).dropna()\n",
    "\n",
    "\n",
    "for x in normalized_X_train.columns:\n",
    "    AML2 = AML[:][x]\n",
    "    ALL2 = ALL[:][x]\n",
    "    t_test_results[x] = scipy.stats.ttest_ind(AML2,ALL2)"
   ]
  },
  {
   "cell_type": "code",
   "execution_count": 141,
   "metadata": {},
   "outputs": [],
   "source": [
    "t_test_train_df = pd.DataFrame.from_dict(t_test_results,orient='Index')\n",
    "t_test_train_df.columns = ['field','pvalue']\n",
    "t_test_train_df=t_test_train_df.sort_values('pvalue').head(10)"
   ]
  },
  {
   "cell_type": "code",
   "execution_count": 142,
   "metadata": {
    "scrolled": true
   },
   "outputs": [
    {
     "data": {
      "text/html": [
       "<div>\n",
       "<style scoped>\n",
       "    .dataframe tbody tr th:only-of-type {\n",
       "        vertical-align: middle;\n",
       "    }\n",
       "\n",
       "    .dataframe tbody tr th {\n",
       "        vertical-align: top;\n",
       "    }\n",
       "\n",
       "    .dataframe thead th {\n",
       "        text-align: right;\n",
       "    }\n",
       "</style>\n",
       "<table border=\"1\" class=\"dataframe\">\n",
       "  <thead>\n",
       "    <tr style=\"text-align: right;\">\n",
       "      <th></th>\n",
       "      <th>field</th>\n",
       "      <th>pvalue</th>\n",
       "    </tr>\n",
       "  </thead>\n",
       "  <tbody>\n",
       "    <tr>\n",
       "      <th>D26067_at</th>\n",
       "      <td>4.385980</td>\n",
       "      <td>0.000014</td>\n",
       "    </tr>\n",
       "    <tr>\n",
       "      <th>X87160_at</th>\n",
       "      <td>4.101131</td>\n",
       "      <td>0.000048</td>\n",
       "    </tr>\n",
       "    <tr>\n",
       "      <th>J05401_at</th>\n",
       "      <td>3.864339</td>\n",
       "      <td>0.000127</td>\n",
       "    </tr>\n",
       "    <tr>\n",
       "      <th>L13744_at</th>\n",
       "      <td>3.861116</td>\n",
       "      <td>0.000129</td>\n",
       "    </tr>\n",
       "    <tr>\n",
       "      <th>M81650_rna1_at</th>\n",
       "      <td>3.670847</td>\n",
       "      <td>0.000269</td>\n",
       "    </tr>\n",
       "    <tr>\n",
       "      <th>J00220_cds4_at</th>\n",
       "      <td>-3.636136</td>\n",
       "      <td>0.000307</td>\n",
       "    </tr>\n",
       "    <tr>\n",
       "      <th>Z46632_r_at</th>\n",
       "      <td>3.597043</td>\n",
       "      <td>0.000356</td>\n",
       "    </tr>\n",
       "    <tr>\n",
       "      <th>U83411_at</th>\n",
       "      <td>3.571196</td>\n",
       "      <td>0.000392</td>\n",
       "    </tr>\n",
       "    <tr>\n",
       "      <th>HG2090-HT2152_s_at</th>\n",
       "      <td>3.518296</td>\n",
       "      <td>0.000476</td>\n",
       "    </tr>\n",
       "    <tr>\n",
       "      <th>M17446_s_at</th>\n",
       "      <td>-3.500792</td>\n",
       "      <td>0.000508</td>\n",
       "    </tr>\n",
       "  </tbody>\n",
       "</table>\n",
       "</div>"
      ],
      "text/plain": [
       "                       field    pvalue\n",
       "D26067_at           4.385980  0.000014\n",
       "X87160_at           4.101131  0.000048\n",
       "J05401_at           3.864339  0.000127\n",
       "L13744_at           3.861116  0.000129\n",
       "M81650_rna1_at      3.670847  0.000269\n",
       "J00220_cds4_at     -3.636136  0.000307\n",
       "Z46632_r_at         3.597043  0.000356\n",
       "U83411_at           3.571196  0.000392\n",
       "HG2090-HT2152_s_at  3.518296  0.000476\n",
       "M17446_s_at        -3.500792  0.000508"
      ]
     },
     "execution_count": 142,
     "metadata": {},
     "output_type": "execute_result"
    }
   ],
   "source": [
    "t_test_train_df.head(10)"
   ]
  },
  {
   "cell_type": "code",
   "execution_count": 143,
   "metadata": {},
   "outputs": [
    {
     "name": "stdout",
     "output_type": "stream",
     "text": [
      "Index(['D26067_at'], dtype='object')\n"
     ]
    }
   ],
   "source": [
    "top_pred = t_test_train_df.head(1).index\n",
    "print(top_pred)"
   ]
  },
  {
   "cell_type": "code",
   "execution_count": 214,
   "metadata": {},
   "outputs": [
    {
     "data": {
      "text/plain": [
       "([<matplotlib.axis.YTick at 0x1a3caa37b8>,\n",
       "  <matplotlib.axis.YTick at 0x1a3caa3048>],\n",
       " <a list of 2 Text yticklabel objects>)"
      ]
     },
     "execution_count": 214,
     "metadata": {},
     "output_type": "execute_result"
    },
    {
     "data": {
      "image/png": "[encoded data removed]",
      "text/plain": [
       "<Figure size 936x360 with 2 Axes>"
      ]
     },
     "metadata": {},
     "output_type": "display_data"
    }
   ],
   "source": [
    "fig = plt.figure(figsize=(13, 5))\n",
    "fig.subplots_adjust(hspace=0.4, wspace=0.4)\n",
    "\n",
    "plt.subplot(1, 2,1)\n",
    "plt.scatter(X_train[top_pred],y_train)\n",
    "plt.title(\"Training Data\")\n",
    "plt.xlim(-600,1000)\n",
    "plt.ylabel(\"D26067_at Gene\")\n",
    "plt.xlabel(\"Cancer Type AML: 1, ALL: 0\")\n",
    "plt.yticks([0,1])\n",
    "\n",
    "\n",
    "plt.subplot(1,2,2)\n",
    "plt.scatter(X_test[top_pred],y_test)\n",
    "plt.title(\"Test Data\")\n",
    "plt.xlim(-600,1000)\n",
    "plt.xlabel(\"Cancer Type AML: 1, ALL: 0\")\n",
    "plt.yticks([0,1])\n",
    "\n"
   ]
  },
  {
   "cell_type": "markdown",
   "metadata": {},
   "source": [
    "**1.4 Using your top gene from the previous part (call it  `best_predictor`), create a classification model by eye-balling a value for this gene that would discriminate the two classes the best. Justify your choice in 1-2 sentences. Report the accuracy of this hand-chosen model on the test set.**\n"
   ]
  },
  {
   "cell_type": "markdown",
   "metadata": {},
   "source": [
    "It is a bit disconcerting that the test and training trends don't follow each other too closely, but there appears to be a common around 325. \n",
    "\n",
    "Given that, I would say that if the D26067_at gene is above 325 then I would think the person has ALL type of cancer. Below 325 and they would likely have AML type of cancer."
   ]
  },
  {
   "cell_type": "markdown",
   "metadata": {},
   "source": [
    "<div class='exercise'><b> Question 2 [25 pts]: Linear and Logistic Regression  </b></div>\n",
    "\n",
    "\n",
    "In class we discussed how to use both linear regression and logistic regression for classification. For this question, you will work with a single gene predictor that you identify as the best predictor above to explore these two methods.\n",
    "\n",
    "**2.1** Fit a simple linear regression model to the training set using the single gene predictor `best_predictor` to predict cancer type. The scores predicted by the regression model for a patient could be interpreted as an estimate of the probability that the patient has Cancer_type=1 (AML). Is there a problem with this interpretation?\n",
    "\n",
    "\n",
    "Create a figure with following items displayed on the same plot (use training data):\n",
    " - the predicted quantitative response from the linear regression model as a function of the best gene predictor\n",
    " - the true binary response. \n",
    "\n",
    "\n",
    "**2.2** Use your estimated linear regression model to classify observations into 0 and 1 using the standard Bayes' classifier.  Evaluate the classification accuracy of this classification model on both the training and test sets.\n",
    "\n",
    "\n",
    "**2.3** Next, fit a simple logistic regression model to the training set. How do the training and test classification accuracies of this model compare with the linear regression model? \n",
    "\n",
    "Remember, you need to set the regularization parameter for sklearn's logistic regression function to be a very large value in order to **not** regularize (use 'C=100000'). \n",
    "\n",
    "\n",
    "**2.4** \n",
    "Print and interpret the logistic regression coefficients: the 'slope' and intercept. \n",
    "\n",
    "\n",
    "Create 2 plots (one each for training and testing data) with 4 items displayed on each plot.\n",
    "- the predicted quantitative response from the linear regression model as a function of the best gene predictor.\n",
    "- the predicted probabilities of the logistic regression model as a function of the best gene predictor. \n",
    "- the true binary response. \n",
    "- a horizontal line at $y=0.5$. \n",
    "\n",
    "Based on these plots, does one of the models appear better suited for binary classification than the other?  Explain in 3 sentences or fewer. \n",
    "\n"
   ]
  },
  {
   "cell_type": "markdown",
   "metadata": {},
   "source": [
    "<hr>\n",
    "### Solutions"
   ]
  },
  {
   "cell_type": "markdown",
   "metadata": {},
   "source": [
    "**2.1** **Fit a simple linear regression model to the training set using the single gene predictor `best_predictor` to predict cancer type. The scores predicted by the regression model for a patient could be interpreted as an estimate of the probability that the patient has Cancer_type=1 (AML).  Is there a problem with this interpretation?**\n",
    "\n"
   ]
  },
  {
   "cell_type": "code",
   "execution_count": 156,
   "metadata": {},
   "outputs": [
    {
     "data": {
      "text/html": [
       "<table class=\"simpletable\">\n",
       "<caption>OLS Regression Results</caption>\n",
       "<tr>\n",
       "  <th>Dep. Variable:</th>            <td>y</td>        <th>  R-squared:         </th> <td>   0.082</td>\n",
       "</tr>\n",
       "<tr>\n",
       "  <th>Model:</th>                   <td>OLS</td>       <th>  Adj. R-squared:    </th> <td>   0.080</td>\n",
       "</tr>\n",
       "<tr>\n",
       "  <th>Method:</th>             <td>Least Squares</td>  <th>  F-statistic:       </th> <td>   53.44</td>\n",
       "</tr>\n",
       "<tr>\n",
       "  <th>Date:</th>             <td>Mon, 21 Oct 2019</td> <th>  Prob (F-statistic):</th> <td>8.58e-13</td>\n",
       "</tr>\n",
       "<tr>\n",
       "  <th>Time:</th>                 <td>22:49:14</td>     <th>  Log-Likelihood:    </th> <td> -410.33</td>\n",
       "</tr>\n",
       "<tr>\n",
       "  <th>No. Observations:</th>      <td>   601</td>      <th>  AIC:               </th> <td>   824.7</td>\n",
       "</tr>\n",
       "<tr>\n",
       "  <th>Df Residuals:</th>          <td>   599</td>      <th>  BIC:               </th> <td>   833.5</td>\n",
       "</tr>\n",
       "<tr>\n",
       "  <th>Df Model:</th>              <td>     1</td>      <th>                     </th>     <td> </td>   \n",
       "</tr>\n",
       "<tr>\n",
       "  <th>Covariance Type:</th>      <td>nonrobust</td>    <th>                     </th>     <td> </td>   \n",
       "</tr>\n",
       "</table>\n",
       "<table class=\"simpletable\">\n",
       "<tr>\n",
       "      <td></td>         <th>coef</th>     <th>std err</th>      <th>t</th>      <th>P>|t|</th>  <th>[0.025</th>    <th>0.975]</th>  \n",
       "</tr>\n",
       "<tr>\n",
       "  <th>const</th>     <td>    0.5948</td> <td>    0.024</td> <td>   24.317</td> <td> 0.000</td> <td>    0.547</td> <td>    0.643</td>\n",
       "</tr>\n",
       "<tr>\n",
       "  <th>D26067_at</th> <td>   -0.0006</td> <td> 8.55e-05</td> <td>   -7.310</td> <td> 0.000</td> <td>   -0.001</td> <td>   -0.000</td>\n",
       "</tr>\n",
       "</table>\n",
       "<table class=\"simpletable\">\n",
       "<tr>\n",
       "  <th>Omnibus:</th>       <td> 0.325</td> <th>  Durbin-Watson:     </th> <td>   2.052</td>\n",
       "</tr>\n",
       "<tr>\n",
       "  <th>Prob(Omnibus):</th> <td> 0.850</td> <th>  Jarque-Bera (JB):  </th> <td>  70.414</td>\n",
       "</tr>\n",
       "<tr>\n",
       "  <th>Skew:</th>          <td> 0.056</td> <th>  Prob(JB):          </th> <td>5.13e-16</td>\n",
       "</tr>\n",
       "<tr>\n",
       "  <th>Kurtosis:</th>      <td> 1.327</td> <th>  Cond. No.          </th> <td>    358.</td>\n",
       "</tr>\n",
       "</table><br/><br/>Warnings:<br/>[1] Standard Errors assume that the covariance matrix of the errors is correctly specified."
      ],
      "text/plain": [
       "<class 'statsmodels.iolib.summary.Summary'>\n",
       "\"\"\"\n",
       "                            OLS Regression Results                            \n",
       "==============================================================================\n",
       "Dep. Variable:                      y   R-squared:                       0.082\n",
       "Model:                            OLS   Adj. R-squared:                  0.080\n",
       "Method:                 Least Squares   F-statistic:                     53.44\n",
       "Date:                Mon, 21 Oct 2019   Prob (F-statistic):           8.58e-13\n",
       "Time:                        22:49:14   Log-Likelihood:                -410.33\n",
       "No. Observations:                 601   AIC:                             824.7\n",
       "Df Residuals:                     599   BIC:                             833.5\n",
       "Df Model:                           1                                         \n",
       "Covariance Type:            nonrobust                                         \n",
       "==============================================================================\n",
       "                 coef    std err          t      P>|t|      [0.025      0.975]\n",
       "------------------------------------------------------------------------------\n",
       "const          0.5948      0.024     24.317      0.000       0.547       0.643\n",
       "D26067_at     -0.0006   8.55e-05     -7.310      0.000      -0.001      -0.000\n",
       "==============================================================================\n",
       "Omnibus:                        0.325   Durbin-Watson:                   2.052\n",
       "Prob(Omnibus):                  0.850   Jarque-Bera (JB):               70.414\n",
       "Skew:                           0.056   Prob(JB):                     5.13e-16\n",
       "Kurtosis:                       1.327   Cond. No.                         358.\n",
       "==============================================================================\n",
       "\n",
       "Warnings:\n",
       "[1] Standard Errors assume that the covariance matrix of the errors is correctly specified.\n",
       "\"\"\""
      ]
     },
     "execution_count": 156,
     "metadata": {},
     "output_type": "execute_result"
    }
   ],
   "source": [
    "# your code here\n",
    "# training set\n",
    "\n",
    "x_train_padded = sm.add_constant(X_train[top_pred]) # to allow for beta_0\n",
    "y_train_lr = y_train.values.reshape(-1,1)\n",
    "\n",
    "\n",
    "model = OLS(y_train_lr, x_train_padded)\n",
    "results = model.fit()\n",
    "results.summary()"
   ]
  },
  {
   "cell_type": "markdown",
   "metadata": {},
   "source": [
    "Yes, the linear regression model may give probabilities above 1 or below 0, which would not make much intuitive sense (and also would not mean a guarantee that you do or do not have that type of cancer)"
   ]
  },
  {
   "cell_type": "markdown",
   "metadata": {},
   "source": [
    "**2.2** **Use your estimated linear regression model to classify observations into 0 and 1 using the standard Bayes' classifier.  Evaluate the classification accuracy of this classification model on both the training and test sets.**"
   ]
  },
  {
   "cell_type": "code",
   "execution_count": 177,
   "metadata": {},
   "outputs": [
    {
     "name": "stdout",
     "output_type": "stream",
     "text": [
      "Training accuracy:  0.6206322795341098\n",
      "Test accuracy:  0.5894039735099338\n"
     ]
    }
   ],
   "source": [
    "y_hat_train_lin = results.predict(exog=x_train_padded)\n",
    "\n",
    "# development set\n",
    "x_dev_padded = sm.add_constant(X_test[top_pred])\n",
    "y_dev_lr = y_test.values.reshape(-1,1)\n",
    "\n",
    "y_hat_test_lin = results.predict(exog=x_dev_padded)\n",
    "\n",
    "print(\"Training accuracy: \", str(accuracy_score(y_train, np.round(y_hat_train_lin))))\n",
    "print(\"Test accuracy: \", str(accuracy_score(y_test, np.round(y_hat_test_lin))))\n"
   ]
  },
  {
   "cell_type": "markdown",
   "metadata": {},
   "source": [
    "\n",
    "**2.3** **Next, fit a simple logistic regression model to the training set. How do the training and test classification accuracies of this model compare with the linear regression model? Are the classifications substantially different?  Explain why this is the case.**\n",
    "\n",
    "**Remember, you need to set the regularization parameter for sklearn's logistic regression function to be a very large value in order to **not** regularize (use 'C=100000')."
   ]
  },
  {
   "cell_type": "code",
   "execution_count": 178,
   "metadata": {},
   "outputs": [
    {
     "name": "stdout",
     "output_type": "stream",
     "text": [
      "Training Accuracy: 0.6173044925124792\n",
      "Test Accuracy: 0.5894039735099338\n"
     ]
    },
    {
     "name": "stderr",
     "output_type": "stream",
     "text": [
      "/anaconda3/lib/python3.7/site-packages/sklearn/linear_model/logistic.py:433: FutureWarning: Default solver will be changed to 'lbfgs' in 0.22. Specify a solver to silence this warning.\n",
      "  FutureWarning)\n"
     ]
    }
   ],
   "source": [
    "lr = LogisticRegression(C=100000000)\n",
    "lr.fit(X_train[top_pred], y_train)\n",
    "\n",
    "y_hat_train_log = lr.predict(X_train[top_pred])\n",
    "print(\"Training Accuracy:\", accuracy_score(y_train, y_hat_train_log))\n",
    "\n",
    "y_hat_test_log = lr.predict(X_test[top_pred])\n",
    "print(\"Test Accuracy:\", accuracy_score(y_test, y_hat_test_log))"
   ]
  },
  {
   "cell_type": "markdown",
   "metadata": {},
   "source": [
    "**Answer:** \n",
    "The training accuracy is a little bit worse and the test accuracy is the same. You might expect this because we are only using one variable, so there isn't likely to be a lot of variation between the different models."
   ]
  },
  {
   "cell_type": "markdown",
   "metadata": {},
   "source": [
    "**2.4 Print and interpret the logistic regression coefficients: the 'slope' and the intercept.**\n",
    "\n",
    "**Create 2 plots (with training and test data) with 4 items displayed on each plot.**\n",
    "- the predicted quantitative response from the linear regression model as a function of the best gene predictor.\n",
    "- the predicted probabilities of the logistic regression model as a function of the best gene predictor. \n",
    "- the true binary response. \n",
    "- a horizontal line at $y=0.5$.\n",
    "\n",
    "**Based on these plots, does one of the models appear better suited for binary classification than the other?  Explain in 3 sentences or fewer.** \n"
   ]
  },
  {
   "cell_type": "code",
   "execution_count": 207,
   "metadata": {},
   "outputs": [
    {
     "data": {
      "text/plain": [
       "Text(0.5, 0, 'Cancer Type AML: 1, ALL: 0')"
      ]
     },
     "execution_count": 207,
     "metadata": {},
     "output_type": "execute_result"
    },
    {
     "data": {
      "image/png": "[encoded data removed]",
      "text/plain": [
       "<Figure size 864x576 with 2 Axes>"
      ]
     },
     "metadata": {},
     "output_type": "display_data"
    }
   ],
   "source": [
    "fig = plt.figure(figsize=(12, 8))\n",
    "fig.subplots_adjust(hspace=0.4, wspace=0.4)\n",
    "\n",
    "plt.subplot(1, 2,1)\n",
    "plt.scatter(X_train[top_pred],y_train,alpha=1,color='orange')\n",
    "plt.plot(X_train[top_pred],y_hat_train_lin)\n",
    "plt.scatter(X_train[top_pred],y_hat_train_log,alpha = 0.4)\n",
    "plt.hlines(xmin=-400,xmax=1000,y=0.5,color='r')\n",
    "\n",
    "\n",
    "plt.title(\"Training Data\")\n",
    "plt.xlim(-600,1000)\n",
    "plt.ylabel(\"D26067_at Gene\")\n",
    "plt.xlabel(\"Cancer Type AML: 1, ALL: 0\")\n",
    "plt.yticks([0,1])\n",
    "\n",
    "\n",
    "plt.subplot(1,2,2)\n",
    "plt.scatter(X_test[top_pred],y_test,alpha=1,color='orange')\n",
    "plt.plot(X_test[top_pred],y_hat_test_lin)\n",
    "plt.scatter(X_test[top_pred],y_hat_test_log,alpha = 0.4)\n",
    "plt.hlines(xmin=-400,xmax=1000,y=0.5,color='r')\n",
    "plt.yticks([0,1])\n",
    "\n",
    "plt.title(\"Test Data\")\n",
    "plt.xlim(-600,1000)\n",
    "plt.xlabel(\"Cancer Type AML: 1, ALL: 0\")"
   ]
  },
  {
   "cell_type": "markdown",
   "metadata": {},
   "source": [
    "To the naked eye, they both look exactly the same, except the linear follows a slightly different path than the logistic. However, after we incorporate the cutoff after creating our predictions, I would expect a very similar result between the two models. Frankly, I'm a bit surprised the linear performed better for the training -- I would have thought they would have the same exact accuracy just like on the test dataset. "
   ]
  },
  {
   "cell_type": "markdown",
   "metadata": {},
   "source": [
    "<div class='exercise'> <b> Question 3 [20pts]: Multiple Logistic Regression </b> </div>\n",
    "\n",
    "\n",
    "**3.1** Next, fit a multiple logistic regression model with all the gene predictors from the data set.  How does the classification accuracy of this model compare with the models fitted in question 2 with a single gene (on both the training and test sets)?  \n",
    "\n",
    "\n",
    "**3.2** How many of the coefficients estimated by this multiple logistic regression in the previous part are significantly different from zero at a *significance level of 5%*? Use the same value of C=100000 as before.\n",
    "\n",
    "**Hint:** To answer this question, use *bootstrapping* with 100 bootstrap samples/iterations.  \n",
    "\n",
    "\n",
    "**3.3** Comment on the classification accuracy of training and test set? Given the results above how would you assess the generalization capacity of your trained model? What other tests would you suggest to better guard against false sense of security on the accuracy of the model as a whole? \n",
    "\n",
    "**3.4** Now use regularization to improve predictions from the multiple logistic regression model.  Use LASSO-like regularization and cross-validation within the training set to tune the model.  Report the classification accuracy on both the training and test set.\n",
    "\n",
    "**3.5** Do the 10 best predictors from Q1 hold up as important features in this regularized model?  If not, explain why this is the case (feel free to use the data to support your explanation)."
   ]
  },
  {
   "cell_type": "markdown",
   "metadata": {},
   "source": [
    "<hr>\n",
    "### Solutions"
   ]
  },
  {
   "cell_type": "markdown",
   "metadata": {},
   "source": [
    "**3.1** **Next, fit a multiple logistic regression model with all the gene predictors from the data set.  How does the classification accuracy of this model compare with the models fitted in question 2 with a single gene (on both the training and test sets)?**  \n"
   ]
  },
  {
   "cell_type": "code",
   "execution_count": 36,
   "metadata": {},
   "outputs": [],
   "source": [
    "# your code here\n"
   ]
  },
  {
   "cell_type": "markdown",
   "metadata": {},
   "source": [
    "*your answer here* \n"
   ]
  },
  {
   "cell_type": "markdown",
   "metadata": {},
   "source": [
    "**3.2** **How many of the coefficients estimated by this multiple logistic regression in the previous part are significantly different from zero at a *significance level of 5%*? Use the same value of C=100000 as before.**\n",
    "\n",
    "**Hint:** **To answer this question, use *bootstrapping* with 1000 bootstrap samples/iterations.**  \n"
   ]
  },
  {
   "cell_type": "code",
   "execution_count": 26,
   "metadata": {},
   "outputs": [],
   "source": [
    "# your code here\n"
   ]
  },
  {
   "cell_type": "code",
   "execution_count": 27,
   "metadata": {},
   "outputs": [],
   "source": [
    "# your code here\n"
   ]
  },
  {
   "cell_type": "markdown",
   "metadata": {},
   "source": [
    "**3.3 Open question: Comment on the classification accuracy of training and test set? Given the results above how would you assest the generalization capacity of your trained model? What other tests would you suggest to better guard against false sense of security on the accuracy of the model as a whole.**"
   ]
  },
  {
   "cell_type": "markdown",
   "metadata": {},
   "source": [
    "*your answer here*"
   ]
  },
  {
   "cell_type": "markdown",
   "metadata": {},
   "source": [
    "**3.4 Now use regularization to improve predictions from the multiple logistic regression model.  Use LASSO-like regularization and cross-validation within the training set to tune the model.  Report the classification accuracy on both the training and test set.**"
   ]
  },
  {
   "cell_type": "code",
   "execution_count": 28,
   "metadata": {},
   "outputs": [],
   "source": [
    "# your code here\n"
   ]
  },
  {
   "cell_type": "code",
   "execution_count": null,
   "metadata": {},
   "outputs": [],
   "source": []
  },
  {
   "cell_type": "code",
   "execution_count": null,
   "metadata": {},
   "outputs": [],
   "source": []
  },
  {
   "cell_type": "markdown",
   "metadata": {},
   "source": [
    "**3.5: Do the 10 best predictors from Q1 hold up as important features in this regularized model?  If not, explain why this is the case (feel free to use the data to support your explanation).**"
   ]
  },
  {
   "cell_type": "code",
   "execution_count": 29,
   "metadata": {},
   "outputs": [],
   "source": [
    "# your code here\n"
   ]
  },
  {
   "cell_type": "code",
   "execution_count": 30,
   "metadata": {},
   "outputs": [],
   "source": [
    "# your code here\n"
   ]
  },
  {
   "cell_type": "code",
   "execution_count": 31,
   "metadata": {},
   "outputs": [],
   "source": [
    "# your code here\n"
   ]
  },
  {
   "cell_type": "code",
   "execution_count": 32,
   "metadata": {},
   "outputs": [],
   "source": [
    "# your code here\n"
   ]
  },
  {
   "cell_type": "markdown",
   "metadata": {},
   "source": [
    "*your answer here* \n"
   ]
  },
  {
   "cell_type": "code",
   "execution_count": null,
   "metadata": {},
   "outputs": [],
   "source": []
  },
  {
   "cell_type": "code",
   "execution_count": null,
   "metadata": {},
   "outputs": [],
   "source": []
  },
  {
   "cell_type": "markdown",
   "metadata": {},
   "source": [
    "<div class='exercise'> <b> Question 4 [25pts]: Multi Class Log Regression </b> </div>"
   ]
  },
  {
   "cell_type": "markdown",
   "metadata": {},
   "source": [
    "**4.1** Load the data from `hw4_mc_enhance.csv.zip` and examine its structure. How many instances of each class are there in our dataset? \n",
    "\n",
    "**4.2** Split the dataset into train and test, 80-20 split, random_state = 8. \n",
    "\n",
    "We are going to utilize these two features - 'M31523_at', 'X95735_at'.  Create a scatter plot of these two features using the training dataset.  It should be easily discernable via labeling/marking in the plot which observations belong to which `cancer_type`.\n",
    "\n",
    "**4.3** Fit the following two models using crossvalidation: \n",
    "- Logistic Regression Multiclass model with linear features. \n",
    "- Logistic Regression Multiclass model with Polynomial features, degree = 2.\n",
    "\n",
    "**4.4** Plot the decision boundaries for each model and interpret the results. Hint: You may utilize the function `overlay_decision_boundary`. \n",
    "\n",
    "**4.5** Report and plot the CV scores for the two models and interpret. \n"
   ]
  },
  {
   "cell_type": "markdown",
   "metadata": {},
   "source": [
    "<hr>\n",
    "### Solutions"
   ]
  },
  {
   "cell_type": "markdown",
   "metadata": {},
   "source": [
    "**4.1 Load the data from `hw4_mc_enhance.csv.zip` and examine its structure. How many instances of each class are there in our dataset?**"
   ]
  },
  {
   "cell_type": "code",
   "execution_count": 37,
   "metadata": {},
   "outputs": [],
   "source": [
    "#your code here\n"
   ]
  },
  {
   "cell_type": "code",
   "execution_count": 41,
   "metadata": {},
   "outputs": [],
   "source": [
    "#your code here \n"
   ]
  },
  {
   "cell_type": "markdown",
   "metadata": {},
   "source": [
    "**4.2 Split the dataset into train and test, 80-20 split, random_state = 8.**\n",
    "\n",
    "**We are going to utilize these two features - 'M31523_at', 'X95735_at'.  Create a scatter plot of these two features using training dataset.  We should be able to discern from the plot which sample belongs to which `cancer_type`.** "
   ]
  },
  {
   "cell_type": "code",
   "execution_count": 42,
   "metadata": {},
   "outputs": [],
   "source": [
    "# your code here\n"
   ]
  },
  {
   "cell_type": "code",
   "execution_count": 62,
   "metadata": {},
   "outputs": [],
   "source": [
    "# your code here\n"
   ]
  },
  {
   "cell_type": "markdown",
   "metadata": {},
   "source": [
    "**4.3  Fit the following two models using crossvalidation:**\n",
    "\n",
    "**Logistic Regression Multiclass model with linear features.**\n",
    "\n",
    "**Logistic Regression Multiclass model with Polynomial features, degree = 2.**\n"
   ]
  },
  {
   "cell_type": "code",
   "execution_count": 63,
   "metadata": {},
   "outputs": [],
   "source": [
    "# your code here\n"
   ]
  },
  {
   "cell_type": "code",
   "execution_count": 66,
   "metadata": {},
   "outputs": [],
   "source": [
    "# your code here\n"
   ]
  },
  {
   "cell_type": "markdown",
   "metadata": {},
   "source": [
    "**4.4 Plot the decision boundary and interpret results. Hint: You may utilize the function `overlay_decision_boundary`** \n"
   ]
  },
  {
   "cell_type": "code",
   "execution_count": 67,
   "metadata": {},
   "outputs": [],
   "source": [
    "def overlay_decision_boundary(ax, model, colors=None, nx=200, ny=200, desaturate=.5, xlim=None, ylim=None):\n",
    "    \"\"\"\n",
    "    A function that visualizes the decision boundaries of a classifier.\n",
    "    \n",
    "    ax: Matplotlib Axes to plot on\n",
    "    model: Classifier to use.\n",
    "     - if `model` has a `.predict` method, like an sklearn classifier, we call `model.predict(X)`\n",
    "     - otherwise, we simply call `model(X)`\n",
    "    colors: list or dict of colors to use. Use color `colors[i]` for class i.\n",
    "     - If colors is not provided, uses the current color cycle\n",
    "    nx, ny: number of mesh points to evaluated the classifier on\n",
    "    desaturate: how much to desaturate each of the colors (for better contrast with the sample points)\n",
    "    xlim, ylim: range to plot on. (If the default, None, is passed, the limits will be taken from `ax`.)\n",
    "    \"\"\"\n",
    "    # Create mesh.\n",
    "    xmin, xmax = ax.get_xlim() if xlim is None else xlim\n",
    "    ymin, ymax = ax.get_ylim() if ylim is None else ylim\n",
    "    xx, yy = np.meshgrid(\n",
    "        np.linspace(xmin, xmax, nx),\n",
    "        np.linspace(ymin, ymax, ny))\n",
    "    X = np.c_[xx.flatten(), yy.flatten()]\n",
    "\n",
    "    # Predict on mesh of points.\n",
    "    model = getattr(model, 'predict', model)\n",
    "    y = model(X)\n",
    "    #print(\"Do I predict\" , y)\n",
    "    \n",
    "    \n",
    "#     y[np.where(y=='aml')]=3\n",
    "#     y[np.where(y=='allT')]=2\n",
    "#     y[np.where(y=='allB')]=1\n",
    "    \n",
    "    \n",
    "    \n",
    "    y = y.astype(int) # This may be necessary for 32-bit Python.\n",
    "    y = y.reshape((nx, ny))\n",
    "\n",
    "    # Generate colormap.\n",
    "    if colors is None:\n",
    "        # If colors not provided, use the current color cycle.\n",
    "        # Shift the indices so that the lowest class actually predicted gets the first color.\n",
    "        # ^ This is a bit magic, consider removing for next year.\n",
    "        colors = (['white'] * np.min(y)) + sns.utils.get_color_cycle()\n",
    "\n",
    "    if isinstance(colors, dict):\n",
    "        missing_colors = [idx for idx in np.unique(y) if idx not in colors]\n",
    "        assert len(missing_colors) == 0, f\"Color not specified for predictions {missing_colors}.\"\n",
    "\n",
    "        # Make a list of colors, filling in items from the dict.\n",
    "        color_list = ['white'] * (np.max(y) + 1)\n",
    "        for idx, val in colors.items():\n",
    "            color_list[idx] = val\n",
    "    else:\n",
    "        assert len(colors) >= np.max(y) + 1, \"Insufficient colors passed for all predictions.\"\n",
    "        color_list = colors\n",
    "    color_list = [sns.utils.desaturate(color, desaturate) for color in color_list]\n",
    "    cmap = matplotlib.colors.ListedColormap(color_list)\n",
    "\n",
    "    # Plot decision surface\n",
    "    ax.pcolormesh(xx, yy, y, zorder=-2, cmap=cmap, norm=matplotlib.colors.NoNorm(), vmin=0, vmax=y.max() + 1)\n",
    "    xx = xx.reshape(nx, ny)\n",
    "    yy = yy.reshape(nx, ny)\n",
    "    if len(np.unique(y)) > 1:\n",
    "        ax.contour(xx, yy, y, colors=\"black\", linewidths=1, zorder=-1)\n",
    "    else:\n",
    "        print(\"Warning: only one class predicted, so not plotting contour lines.\")"
   ]
  },
  {
   "cell_type": "code",
   "execution_count": 68,
   "metadata": {},
   "outputs": [],
   "source": [
    "# Your code here\n"
   ]
  },
  {
   "cell_type": "code",
   "execution_count": 70,
   "metadata": {},
   "outputs": [],
   "source": [
    "# your code here\n"
   ]
  },
  {
   "cell_type": "markdown",
   "metadata": {},
   "source": [
    "**4.5 Report and plot the CV scores for the two models and interpret.**"
   ]
  },
  {
   "cell_type": "code",
   "execution_count": 71,
   "metadata": {},
   "outputs": [],
   "source": [
    "# your code here\n"
   ]
  },
  {
   "cell_type": "code",
   "execution_count": 72,
   "metadata": {},
   "outputs": [],
   "source": [
    "# your code here\n"
   ]
  },
  {
   "cell_type": "markdown",
   "metadata": {},
   "source": [
    "<div class='exercise'><b> Question 5: [10 pts] Including an 'abstain' option </b></div>\n",
    "\n",
    "One of the reasons a hospital might be hesitant to use your cancer classification model is that a misdiagnosis by the model on a patient can sometimes prove to be very costly (e.g. if the patient were to file a law suit seeking a compensation for damages). One way to mitigate this concern is to allow the model to 'abstain' from making a prediction: whenever it is uncertain about the diagnosis for a patient. However, when the model abstains from making a prediction, the hospital will have to forward the patient to a specialist, which would incur additional cost.  How could one design a cancer classification model with an abstain option, such that the cost to the hospital is minimized?\n",
    "\n",
    "*Hint:* Think of ways to build on top of the logistic regression model and have it abstain on patients who are difficult to classify."
   ]
  },
  {
   "cell_type": "markdown",
   "metadata": {},
   "source": [
    "**5.1** More specifically, suppose the cost incurred by a hospital when a model mis-predicts on a patient is $\\$5000$ , and the cost incurred when the model abstains from making a prediction is \\$1000. What is the average cost per patient for the OvR logistic regression model (without quadratic or interaction terms) from **Question 4**.  Note that this needs to be evaluated on the patients in the test set. "
   ]
  },
  {
   "cell_type": "markdown",
   "metadata": {},
   "source": [
    "**5.2** Design a classification strategy (into the 3 groups plus the *abstain* group) that has as low cost as possible per patient (certainly lower cost per patient than the logistic regression model).   Give a justification for your approach."
   ]
  },
  {
   "cell_type": "markdown",
   "metadata": {},
   "source": [
    "<hr>\n",
    "### Solutions"
   ]
  },
  {
   "cell_type": "markdown",
   "metadata": {},
   "source": [
    "**5.1 More specifically, suppose the cost incurred by a hospital when a model mis-predicts on a patient is $\\$5000$ , and the cost incurred when the model abstains from making a prediction is \\$1000. What is the average cost per patient for the OvR logistic regression model (without quadratic or interaction terms) from Question 4.  Note that this needs to be evaluated on the patients in the test set.**\n",
    "**\n",
    "...\n",
    "**"
   ]
  },
  {
   "cell_type": "markdown",
   "metadata": {},
   "source": [
    "*your answer here* \n"
   ]
  },
  {
   "cell_type": "code",
   "execution_count": 73,
   "metadata": {},
   "outputs": [],
   "source": [
    "# your code here\n"
   ]
  },
  {
   "cell_type": "markdown",
   "metadata": {},
   "source": [
    "**5.2 Design a classification strategy (into the 3 groups plus the *abstain* group) that has as low cost as possible per patient (certainly lower cost per patient than the logistic regression model).   Give a justification for your approach.**"
   ]
  },
  {
   "cell_type": "code",
   "execution_count": 74,
   "metadata": {},
   "outputs": [],
   "source": [
    "# your code here\n"
   ]
  },
  {
   "cell_type": "code",
   "execution_count": null,
   "metadata": {},
   "outputs": [],
   "source": []
  },
  {
   "cell_type": "code",
   "execution_count": null,
   "metadata": {},
   "outputs": [],
   "source": []
  }
 ],
 "metadata": {
  "kernelspec": {
   "display_name": "Python 3",
   "language": "python",
   "name": "python3"
  },
  "language_info": {
   "codemirror_mode": {
    "name": "ipython",
    "version": 3
   },
   "file_extension": ".py",
   "mimetype": "text/x-python",
   "name": "python",
   "nbconvert_exporter": "python",
   "pygments_lexer": "ipython3",
   "version": "3.7.1"
  }
 },
 "nbformat": 4,
 "nbformat_minor": 2
}
