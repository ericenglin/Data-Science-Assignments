{
 "cells": [
  {
   "cell_type": "markdown",
   "metadata": {
    "button": false,
    "new_sheet": false,
    "run_control": {
     "read_only": false
    }
   },
   "source": [
    "# <img style=\"float: left; padding-right: 10px; width: 45px\" src=\"https://raw.githubusercontent.com/Harvard-IACS/2018-CS109A/master/content/styles/iacs.png\"> CS109A Introduction to Data Science \n",
    "\n",
    "## Homework 0: Knowledge Test\n",
    "\n",
    "**Harvard University**<br/>\n",
    "**Fall 2019**<br/>\n",
    "**Instructors**: Pavlos Protopapas, Kevin Rader, and Chris Tanner\n",
    "\n",
    "\n",
    "<hr style='height:2px'>\n",
    "\n",
    "---\n",
    "\n",
    "This is a homework which you must  turn in.\n",
    "\n",
    "This homework has the following intentions:\n",
    "\n",
    "1. To get you familiar with the jupyter/python environment\n",
    "2. You should easily understand these questions and what is being asked. If you struggle, this may not be the right class for you.\n",
    "3. You should be able to understand the intent (if not the exact syntax) of the code and be able to look up google and provide code that is asked of you. If you cannot, this may not be the right class for you.\n",
    "\n"
   ]
  },
  {
   "cell_type": "code",
   "execution_count": 50,
   "metadata": {},
   "outputs": [
    {
     "name": "stderr",
     "output_type": "stream",
     "text": [
      "/anaconda3/lib/python3.7/site-packages/requests/__init__.py:91: RequestsDependencyWarning: urllib3 (1.24.1) or chardet (2.3.0) doesn't match a supported version!\n",
      "  RequestsDependencyWarning)\n"
     ]
    },
    {
     "data": {
      "text/html": [
       "<style>\n",
       "blockquote { background: #AEDE94; }\n",
       "h1 { \n",
       "    padding-top: 25px;\n",
       "    padding-bottom: 25px;\n",
       "    text-align: left; \n",
       "    padding-left: 10px;\n",
       "    background-color: #DDDDDD; \n",
       "    color: black;\n",
       "}\n",
       "h2 { \n",
       "    padding-top: 10px;\n",
       "    padding-bottom: 10px;\n",
       "    text-align: left; \n",
       "    padding-left: 5px;\n",
       "    background-color: #EEEEEE; \n",
       "    color: black;\n",
       "}\n",
       "\n",
       "div.exercise {\n",
       "\tbackground-color: #ffcccc;\n",
       "\tborder-color: #E9967A; \t\n",
       "\tborder-left: 5px solid #800080; \n",
       "\tpadding: 0.5em;\n",
       "}\n",
       "\n",
       "span.sub-q {\n",
       "\tfont-weight: bold;\n",
       "}\n",
       "div.theme {\n",
       "\tbackground-color: #DDDDDD;\n",
       "\tborder-color: #E9967A; \t\n",
       "\tborder-left: 5px solid #800080; \n",
       "\tpadding: 0.5em;\n",
       "\tfont-size: 18pt;\n",
       "}\n",
       "div.gc { \n",
       "\tbackground-color: #AEDE94;\n",
       "\tborder-color: #E9967A; \t \n",
       "\tborder-left: 5px solid #800080; \n",
       "\tpadding: 0.5em;\n",
       "\tfont-size: 12pt;\n",
       "}\n",
       "p.q1 { \n",
       "    padding-top: 5px;\n",
       "    padding-bottom: 5px;\n",
       "    text-align: left; \n",
       "    padding-left: 5px;\n",
       "    background-color: #EEEEEE; \n",
       "    color: black;\n",
       "}\n",
       "header {\n",
       "   padding-top: 35px;\n",
       "    padding-bottom: 35px;\n",
       "    text-align: left; \n",
       "    padding-left: 10px;\n",
       "    background-color: #DDDDDD; \n",
       "    color: black;\n",
       "}\n",
       "</style>\n",
       "\n"
      ],
      "text/plain": [
       "<IPython.core.display.HTML object>"
      ]
     },
     "execution_count": 50,
     "metadata": {},
     "output_type": "execute_result"
    }
   ],
   "source": [
    "## RUN THIS CELL TO GET THE RIGHT FORMATTING \n",
    "import requests\n",
    "from IPython.core.display import HTML\n",
    "styles = requests.get(\"https://raw.githubusercontent.com/Harvard-IACS/2018-CS109A/master/content/styles/cs109.css\").text\n",
    "HTML(styles)"
   ]
  },
  {
   "cell_type": "markdown",
   "metadata": {
    "button": false,
    "new_sheet": false,
    "run_control": {
     "read_only": false
    }
   },
   "source": [
    "---"
   ]
  },
  {
   "cell_type": "markdown",
   "metadata": {
    "button": false,
    "new_sheet": false,
    "run_control": {
     "read_only": false
    }
   },
   "source": [
    "## Basic Math and Probability/Statistics Calculations"
   ]
  },
  {
   "cell_type": "markdown",
   "metadata": {
    "button": false,
    "new_sheet": false,
    "run_control": {
     "read_only": false
    }
   },
   "source": [
    "We'll start you off with some basic math and statistics problems questions to make sure you have the appropriate background to be comfortable with concepts that will come up in CS 109a."
   ]
  },
  {
   "cell_type": "markdown",
   "metadata": {
    "button": false,
    "new_sheet": false,
    "run_control": {
     "read_only": false
    }
   },
   "source": [
    "### Question 1: Mathiage is What Brings Us Together Today\n",
    "\n",
    "**Matrix Operations**\n",
    "\n",
    "*Complete the following matrix operations (show your work as a markdown/latex notebook cell)*"
   ]
  },
  {
   "cell_type": "markdown",
   "metadata": {
    "button": false,
    "new_sheet": false,
    "run_control": {
     "read_only": false
    }
   },
   "source": [
    "**1.1.** &nbsp;&nbsp;Let &nbsp;&nbsp; $ A =  \\left( \\begin{array}{ccc}\n",
    "3 & 4 & 2 \\\\\n",
    "5 & 6 & 4 \\\\\n",
    "4 & 3 & 4 \\end{array} \\right) \\,\\,$ and  $ \\,\\, B = \\left( \\begin{array}{ccc}\n",
    "1 & 4 & 2 \\\\\n",
    "1 & 9 & 3 \\\\\n",
    "2 & 3 & 3 \\end{array} \\right)\n",
    "$.  \n",
    "\n",
    "Compute &nbsp;$A \\cdot B$.\n",
    "\n",
    "**1.2.** &nbsp;&nbsp;Let &nbsp;&nbsp;\n",
    "$ A =  \\left( \\begin{array}{ccc}\n",
    "0 & 12 & 8 \\\\\n",
    "1 & 15 & 0 \\\\\n",
    "0 & 6 & 3 \\end{array} \\right)$.  \n",
    "\n",
    "Compute &nbsp; $A^{-1}$.  \n",
    "\n"
   ]
  },
  {
   "cell_type": "code",
   "execution_count": 51,
   "metadata": {
    "button": false,
    "new_sheet": false,
    "run_control": {
     "read_only": false
    },
    "scrolled": false
   },
   "outputs": [
    {
     "name": "stdout",
     "output_type": "stream",
     "text": [
      "A * B Result:  [[3, 16, 4], [5, 54, 12], [8, 9, 12]]\n",
      "𝐴−1 Result:  [[0, 0.08333333333333333, 0.125], [1.0, 0.06666666666666667, 0], [0, 0.16666666666666666, 0.3333333333333333]]\n"
     ]
    }
   ],
   "source": [
    "#Solution\n",
    "#Compute A * B\n",
    "\n",
    "A1 = [[3,4,2],\n",
    "     [5,6,4],\n",
    "     [4,3,4]]\n",
    "\n",
    "B = [[1,4,2],\n",
    "     [1,9,3],\n",
    "     [2,3,3]]\n",
    "\n",
    "multiply_result = [[0,0,0],\n",
    "                   [0,0,0],\n",
    "                   [0,0,0]]\n",
    "\n",
    "A2 = [[0,12,8],\n",
    "     [1,15,0],\n",
    "     [0,6,3]]\n",
    "\n",
    "\n",
    "\n",
    "inverse_result = [[0,0,0],\n",
    "                  [0,0,0],\n",
    "                  [0,0,0]]\n",
    "\n",
    "\n",
    "\n",
    "# Calculate multiplication arrays\n",
    "# iterate through rows\n",
    "for i in range(len(A1)):\n",
    "   # iterate through columns\n",
    "   for j in range(len(A1[0])):\n",
    "        multiply_result[i][j] = A1[i][j] * B[i][j]\n",
    "\n",
    "# Calculate inverse arrays\n",
    "# iterate through rows\n",
    "for i in range(len(A2)):\n",
    "   # iterate through columns\n",
    "    for j in range(len(A2[i])):\n",
    "        if A2[i][j] == 0:\n",
    "            inverse_result[i][j] = 0\n",
    "        else:\n",
    "            inverse_result[i][j] = A2[i][j] **-1\n",
    "\n",
    "\n",
    "print(\"A * B Result: \", multiply_result)\n",
    "print(\"𝐴−1 Result: \", inverse_result)"
   ]
  },
  {
   "cell_type": "markdown",
   "metadata": {
    "button": false,
    "new_sheet": false,
    "run_control": {
     "read_only": false
    }
   },
   "source": [
    "**Calculus and Probability**\n",
    "\n",
    "*Complete the following (show your work as a markdown/latex notebook cell)*\n",
    "\n",
    "**1.3**. From Wikipedia:\n",
    "\n",
    "  > In mathematical optimization, statistics, econometrics, decision theory, machine learning and computational neuroscience, a loss function or cost function is a function that maps an event or values of one or more variables onto a real number intuitively representing some \"cost\" associated with the event. An optimization problem seeks to minimize a loss function.\n",
    "  \n",
    "   We've generated a cost function on parameters $x,y \\in \\mathcal{R}$  $L(x,y)= 3x^2y - y^3 - 3x^2 - 3y^2 + 2$.  Find the critical points (optima) of $L(x,y)$.\n",
    "\n",
    "**1.4**. A central aspect of call center operations is the per minute statistics of caller demographics.  Because of the massive call volumes call centers achieve, these per minute statistics can often take on well-known distributions.  In the CS109 Homework Helpdesk, X and Y are discrete random variables with X measuring the number of female callers per minute and Y the total number of callers per minute.  We've determined historically the joint pmf of (X, Y) and found it to be $$p_{X,Y}(x,y) = e^{-4}\\frac{2^y}{x!(y-x)!}$$ where $y \\in \\mathcal{N}, x \\in [0, y]$ (That is to say the total number of callers in a minute is a non-negative integer and the number of female callers naturally assumes a value between 0 and the total number of callers inclusive).  Find the mean and variance of the marginal distribution of $X$. **(Hint:  Think what values can y take on. A change of variables in your sum from y to y-x may make evaluating the sum easier.)**\n"
   ]
  },
  {
   "cell_type": "code",
   "execution_count": 52,
   "metadata": {},
   "outputs": [
    {
     "name": "stdout",
     "output_type": "stream",
     "text": [
      "Maximal (x, y): (-0.0, 0.0)\n",
      "Max func value: 2.0 \n",
      "\n",
      "Minimal (x, y): (-1.0, -1.0)\n",
      "Min func value: -5.97\n"
     ]
    }
   ],
   "source": [
    "# Find the critical points (optima) of  𝐿(𝑥,𝑦) L(x,y) .\n",
    "\n",
    "import numpy as np\n",
    "from scipy.optimize import fmin\n",
    "import math\n",
    "import math\n",
    "import random\n",
    "import sys\n",
    "\n",
    "\n",
    "def first_function(x, y):\n",
    "    exp = (3*y*(math.pow(x, 2)) - math.pow(y,3) - (3*(math.pow(x, 2))) -\n",
    "           3*math.pow(y,2)+2)\n",
    "    return exp\n",
    "\n",
    "max_func=0\n",
    "min_func=0\n",
    "\n",
    "for i in range(1000000):\n",
    "    randx = random.random()*2 - 1\n",
    "    randy = random.random()*2 - 1\n",
    "    result = first_function(randx, randy)\n",
    "    max_func = max(max_func, result)\n",
    "    if max_func == result:\n",
    "        maximal_x, maximal_y = randx, randy\n",
    "    min_func = min(min_func, result)\n",
    "    if min_func == result:\n",
    "        minimal_x, minimal_y = randx, randy\n",
    "\n",
    "print(\"Maximal (x, y):\", (round(maximal_x,2), round(maximal_y,2)))\n",
    "print(\"Max func value:\", round(max_func,2), '\\n')\n",
    "print(\"Minimal (x, y):\", (round(minimal_x,2), round(minimal_y,2)))\n",
    "print(\"Min func value:\", round(min_func,2))\n"
   ]
  },
  {
   "cell_type": "code",
   "execution_count": 53,
   "metadata": {
    "scrolled": false
   },
   "outputs": [
    {
     "name": "stdout",
     "output_type": "stream",
     "text": [
      "Maximal (x, y): (2, 4)\n",
      "Max func value: 0.07 \n",
      "\n",
      "Minimal (x, y): (-1.0, -1.0)\n",
      "Min func value: 0\n"
     ]
    }
   ],
   "source": [
    "# Find the mean and variance of the marginal distribution of  𝑋\n",
    "## In Progress\n",
    "\n",
    "import math\n",
    "import random\n",
    "import sys\n",
    "\n",
    "\n",
    "def second_function(x, y):\n",
    "    result = ((math.exp(-4)*(2**y))/\n",
    "              (math.factorial(x)*math.factorial(y-x)))\n",
    "    return result\n",
    "\n",
    "max_func=0\n",
    "min_func=0\n",
    "\n",
    "for i in range(1000000):\n",
    "    randx = random.randint(0,100)\n",
    "    randy = random.randint(randx,100)\n",
    "    result = second_function(randx, randy)\n",
    "    max_func = max(max_func, result)\n",
    "    if max_func == result:\n",
    "        maximal_x, maximal_y = randx, randy\n",
    "    min_func = min(min_func, result)\n",
    "    if min_func == result:\n",
    "        minimal_x, minimal_y = randx, randy\n",
    "\n",
    "print(\"Maximal (x, y):\", (round(maximal_x,2), round(maximal_y,2)))\n",
    "print(\"Max func value:\", round(max_func,2), '\\n')\n",
    "print(\"Minimal (x, y):\", (round(minimal_x,2), round(minimal_y,2)))\n",
    "print(\"Min func value:\", round(min_func,2))\n",
    "\n"
   ]
  },
  {
   "cell_type": "code",
   "execution_count": 54,
   "metadata": {
    "button": false,
    "new_sheet": false,
    "run_control": {
     "read_only": false
    }
   },
   "outputs": [],
   "source": [
    "### The line %... is a jupyter \"magic\" command, and is not part of the Python language.\n",
    "# In this case we're just telling the plotting library to draw things on\n",
    "# the notebook, instead of on a separate window.\n",
    "%matplotlib inline\n",
    "# See the \"import ... as ...\" contructs below? They're just aliasing the package names.\n",
    "# That way we can call methods like plt.plot() instead of matplotlib.pyplot.plot().\n",
    "import numpy as np\n",
    "import scipy as sp\n",
    "import pandas as pd\n",
    "import scipy.stats\n",
    "import matplotlib.pyplot as plt"
   ]
  },
  {
   "cell_type": "markdown",
   "metadata": {},
   "source": [
    "**Basic Statistics**\n",
    "\n",
    "*Complete the following: you can perform the calculations by hand (show your work) or using software (include the code and output, screenshots are fine if it is from another platform).*\n",
    "\n",
    "**1.5**. 37 of the 76 female CS concentrators have taken Data Science 1 (DS1) while 50 of the 133 male concentrators haven taken DS1.  Perform a statistical test to determine if interest in Data Science (by taking DS1) is related to sex.  Be sure to state your conclusion."
   ]
  },
  {
   "cell_type": "code",
   "execution_count": 55,
   "metadata": {},
   "outputs": [
    {
     "data": {
      "text/plain": [
       "Ttest_indResult(statistic=-0.7633084007302985, pvalue=0.5250278674453636)"
      ]
     },
     "execution_count": 55,
     "metadata": {},
     "output_type": "execute_result"
    }
   ],
   "source": [
    "#**Solution**\n",
    "\n",
    "Female = [37,76]\n",
    "Male = [50,133]\n",
    "scipy.stats.ttest_ind(Female,Male)"
   ]
  },
  {
   "cell_type": "markdown",
   "metadata": {},
   "source": [
    "**Conclusion Statement:**\n",
    "\n",
    "Final P-value is 0.5 so would not support the hypothesis that there is a difference between the two population samples. "
   ]
  },
  {
   "cell_type": "markdown",
   "metadata": {
    "button": false,
    "new_sheet": false,
    "run_control": {
     "read_only": false
    }
   },
   "source": [
    "------"
   ]
  },
  {
   "cell_type": "markdown",
   "metadata": {
    "button": false,
    "new_sheet": false,
    "run_control": {
     "read_only": false
    }
   },
   "source": [
    "## Simulation of a Coin Throw\n",
    "\n",
    "We'd like to do some experiments with coin flips, but we don't have a physical coin at the moment. So let us **simulate** the process of flipping a coin on a computer. To do this we will use a form of the **random number generator** built into `numpy`. In particular, we will use the function `np.random.choice` which picks items with uniform probability from a list. If we provide it a list ['H', 'T'], it will pick one of the two items in the list. We can also ask it to do this multiple times by specifying the parameter `size`. "
   ]
  },
  {
   "cell_type": "code",
   "execution_count": 56,
   "metadata": {
    "button": false,
    "new_sheet": false,
    "run_control": {
     "read_only": false
    }
   },
   "outputs": [],
   "source": [
    "def throw_a_coin(n_trials):\n",
    "    return np.random.choice(['H','T'], size=n_trials)"
   ]
  },
  {
   "cell_type": "markdown",
   "metadata": {
    "button": false,
    "new_sheet": false,
    "run_control": {
     "read_only": false
    }
   },
   "source": [
    "`np.sum` is a function that returns the sum of items in an iterable (i.e. a list or an array).  Because python coerces `True` to 1 and `False` to 0, the effect of calling `np.sum` on the array of `True`s and `False`s will be to return the number of of `True`s in the array which is the same as the number of heads."
   ]
  },
  {
   "cell_type": "markdown",
   "metadata": {
    "button": false,
    "new_sheet": false,
    "run_control": {
     "read_only": false
    }
   },
   "source": [
    "### Question 2: The 12 Labors of Bernoullis\n",
    "\n",
    "Now that we know how to run our coin flip experiment, we're interested in knowing what happens as we choose larger and larger number of coin flips.\n",
    "\n",
    "\n",
    "**2.1**.  Run one experiment of flipping a coin 40 times storing the resulting sample in the variable `throws1`.   What's the total proportion of heads?\n",
    "\n",
    "**2.2**.  **Replicate** the experiment in 2.1 storing the resulting sample  in the variable `throws2`.   What's the proportion of heads?  How does this result compare to that you obtained in question 2.1?\n",
    "\n",
    "**2.3**.  Write a function  called `run_trials` that takes as input a list, called `n_flips`, of integers representing different values for the number of coin flips in a trial.  For each element in the input list, `run_trials` should run the coin flip experiment with that number of flips and calculate the proportion of heads.  The output of `run_trials` should be the list of calculated proportions.  Store the output of calling `run_trials` in a list called `proportions`.\n",
    "\n",
    "**2.4**.  Using the results in 2.3, reproduce the plot below. \n",
    "<!--of the proportion of observed heads to total coins flipped in the trial when `run_trials` is run for each of the sample sizes in `trials` -->  <img src=\"figs/HW0Plot1.png\"/>\n",
    "\n",
    "**2.5**.  What's the appropriate observation about the result of running the coin flip experiment with larger and larger numbers of coin flips?  Choose the appropriate one from the choices below. \n",
    "\n",
    "> A. Regardless of sample size the probability of in our experiment of observing heads is 0.5 so the proportion of heads observed in the coin-flip experiments will always be 0.5.  \n",
    ">\n",
    "> B. The proportions **fluctuate** about their long-run value of 0.5 (what you might expect if you tossed the coin an infinite amount of times), in accordance with the notion of a fair coin (which we encoded in our simulation by having `np.random.choice` choose between two possibilities with equal probability), with the fluctuations seeming to become much smaller as the number of trials increases.\n",
    ">\n",
    "> C. The proportions **fluctuate** about their long-run value of 0.5 (what you might expect if you tossed the coin an infinite amount of times), in accordance with the notion of a fair coin (which we encoded in our simulation by having `np.random.choice` choose between two possibilities with equal probability), with the fluctuations constant regardless of the number of trials.\n"
   ]
  },
  {
   "cell_type": "markdown",
   "metadata": {
    "button": false,
    "new_sheet": false,
    "run_control": {
     "read_only": false
    }
   },
   "source": [
    "#### Solutions"
   ]
  },
  {
   "cell_type": "markdown",
   "metadata": {
    "button": false,
    "new_sheet": false,
    "run_control": {
     "read_only": false
    }
   },
   "source": [
    "**2.1**"
   ]
  },
  {
   "cell_type": "code",
   "execution_count": 71,
   "metadata": {
    "button": false,
    "new_sheet": false,
    "run_control": {
     "read_only": false
    }
   },
   "outputs": [
    {
     "name": "stdout",
     "output_type": "stream",
     "text": [
      "The proportion of heads is:  0.475\n"
     ]
    }
   ],
   "source": [
    "## 2.1. Run one experiment of flipping a coin 40 times \n",
    "# storing the resulting sample in the variable throws1. \n",
    "# What's the total proportion of heads?\n",
    "\n",
    "throws1 = throw_a_coin(40)\n",
    "\n",
    "heads_nums=0\n",
    "\n",
    "for x in throws1:\n",
    "    if x == 'H':\n",
    "        heads_nums += 1\n",
    "\n",
    "print(\"The proportion of heads is: \", heads_nums/len(throws1))"
   ]
  },
  {
   "cell_type": "markdown",
   "metadata": {
    "button": false,
    "new_sheet": false,
    "run_control": {
     "read_only": false
    }
   },
   "source": [
    "**2.2.** \n",
    "\n",
    "Replicate the experiment in 2.1 storing the resulting sample in the variable throws2. What's the proportion of heads? How does this result compare to that you obtained in question 2.1?"
   ]
  },
  {
   "cell_type": "code",
   "execution_count": 79,
   "metadata": {
    "button": false,
    "new_sheet": false,
    "run_control": {
     "read_only": false
    }
   },
   "outputs": [
    {
     "name": "stdout",
     "output_type": "stream",
     "text": [
      "The proportion of heads is:  0.55\n"
     ]
    }
   ],
   "source": [
    "throws2 = throw_a_coin(40)\n",
    "heads_nums=0\n",
    "\n",
    "\n",
    "for x in throws2:\n",
    "    if x == 'H':\n",
    "        heads_nums += 1\n",
    "\n",
    "print(\"The proportion of heads is: \", heads_nums/len(throws2))"
   ]
  },
  {
   "cell_type": "markdown",
   "metadata": {
    "button": false,
    "new_sheet": false,
    "run_control": {
     "read_only": false
    }
   },
   "source": [
    "**2.3** \n",
    "\n",
    "Write a function called run_trials that takes as input a list, called n_flips, of integers representing different values for the number of coin flips in a trial. For each element in the input list, run_trials should run the coin flip experiment with that number of flips and calculate the proportion of heads. The output of run_trials should be the list of calculated proportions. Store the output of calling run_trials in a list called proportions."
   ]
  },
  {
   "cell_type": "code",
   "execution_count": 81,
   "metadata": {
    "button": false,
    "new_sheet": false,
    "run_control": {
     "read_only": false
    }
   },
   "outputs": [],
   "source": [
    "n_flips = [10, 30, 50, 70, 100, 130, 170, 200, 500, 1000, \n",
    "           2000, 5000, 10000]"
   ]
  },
  {
   "cell_type": "code",
   "execution_count": 109,
   "metadata": {
    "button": false,
    "new_sheet": false,
    "run_control": {
     "read_only": false
    }
   },
   "outputs": [],
   "source": [
    "proportions = []\n",
    "\n",
    "def run_trials(n_flips):\n",
    "    proportions = []\n",
    "    for x in n_flips:\n",
    "        throws = throw_a_coin(x)\n",
    "        heads_nums = 0\n",
    "        for y in throws:\n",
    "            if y == 'H':\n",
    "                heads_nums += 1\n",
    "        prop = heads_nums/len(throws)\n",
    "        proportions.append(prop)\n",
    "    return proportions\n",
    "\n",
    "proportions = run_trials(n_flips)"
   ]
  },
  {
   "cell_type": "markdown",
   "metadata": {
    "button": false,
    "new_sheet": false,
    "run_control": {
     "read_only": false
    }
   },
   "source": [
    "**2.4** \n",
    "\n",
    "Using the results in 2.3, reproduce the plot below."
   ]
  },
  {
   "cell_type": "code",
   "execution_count": 112,
   "metadata": {},
   "outputs": [
    {
     "data": {
      "image/png": "[encoded data removed]",
      "text/plain": [
       "<Figure size 432x288 with 1 Axes>"
      ]
     },
     "metadata": {
      "needs_background": "light"
     },
     "output_type": "display_data"
    }
   ],
   "source": [
    "ax = plt.axes()\n",
    "ax.plot(n_flips, proportions, marker = 'o', color = 'lightblue')\n",
    "ax.axhline(0.5,color = 'r')\n",
    "ax.set(xlim=(-500, 10000), ylim=(min(proportions)-0.03, \n",
    "                                 max(proportions)+0.03),\n",
    "       xlabel='number of flips', \n",
    "       ylabel='Proportion of heads from simulation',\n",
    "       title='Proportion of heads from simulation vs number of simulations');\n"
   ]
  },
  {
   "cell_type": "markdown",
   "metadata": {
    "button": false,
    "new_sheet": false,
    "run_control": {
     "read_only": false
    }
   },
   "source": [
    "**2.5** "
   ]
  },
  {
   "cell_type": "markdown",
   "metadata": {
    "button": false,
    "new_sheet": false,
    "run_control": {
     "read_only": false
    }
   },
   "source": [
    "**What's the appropriate observation about the result of applying the coin flip experiment to larger and larger numbers of coin flips?  Choose the appropriate one.**\n",
    "\n",
    "**Answer:**\n",
    "\n",
    "Less number of flips allow for greater variation from the expected value of 50%. More flips leads to less variation and an observed value closer to 50%.\n"
   ]
  },
  {
   "cell_type": "markdown",
   "metadata": {
    "button": false,
    "new_sheet": false,
    "run_control": {
     "read_only": false
    }
   },
   "source": [
    "## Multiple Replications of the Coin Flip Experiment\n",
    "\n",
    "The coin flip experiment that we did above gave us some insight, but we don't have a good notion of how robust our results are under repetition as we've only run one experiment for each number of coin flips. Lets redo the coin flip experiment, but let's incorporate multiple repetitions of each number of coin flips. For each choice of the number of flips,  $n$, in an experiment, we'll do $M$ replications of the coin tossing experiment."
   ]
  },
  {
   "cell_type": "markdown",
   "metadata": {
    "button": false,
    "new_sheet": false,
    "run_control": {
     "read_only": false
    }
   },
   "source": [
    "### Question 3. So Many Replications\n",
    "\n",
    "**3.1**.  Write a function `make_throws` which takes as arguments the `n_replications` ($M$) and the `n_flips` ($n$), and returns a list (of size $M$) of proportions, with each proportion calculated by taking the ratio of heads to to total number of coin flips in each replication of $n$ coin tosses.  `n_flips` should be a python parameter whose value should default to 20 if unspecified when `make_throws` is called. \n",
    "\n",
    "**3.2**.  Create the variables `proportions_at_n_flips_100` and `proportions_at_n_flips_1000`.  Store in these variables the result of `make_throws` for `n_flips` equal to 100 and 1000 respectively while keeping `n_replications` at 200.  Create a plot with the histograms of `proportions_at_n_flips_100` and `proportions_at_n_flips_1000`.  Make sure to title your plot, label the x-axis and provide a legend.(See below for an example of what the plot may look like) ![](figs/HW0Plot2.png) \n",
    "\n",
    "**3.3**. Calculate the mean and variance of the results in the each of the variables `proportions_at_n_flips_100` and `proportions_at_n_flips_1000` generated in 3.2.\n",
    "\n",
    "3.4. Based upon the plots what would be your guess of what type of distribution is represented by histograms in 3.2?  Explain the factors that influenced your choice.\n",
    "> A. Gamma Distribution\n",
    ">\n",
    "> B. Beta Distribution\n",
    ">\n",
    "> C. Gaussian\n",
    "\n",
    "**3.5**. Let's just assume for arguments sake that the answer to 3.4 is **C. Gaussian**.  Plot a **normed histogram** of your results `proportions_at_n_flips_1000` overlayed with your selection for the appropriate gaussian distribution to represent the experiment of flipping a coin 1000 times.   (**Hint:  What parameters should you use for your Gaussian?**)\n"
   ]
  },
  {
   "cell_type": "markdown",
   "metadata": {
    "button": false,
    "new_sheet": false,
    "run_control": {
     "read_only": false
    }
   },
   "source": [
    "#### Answers"
   ]
  },
  {
   "cell_type": "markdown",
   "metadata": {
    "button": false,
    "new_sheet": false,
    "run_control": {
     "read_only": false
    }
   },
   "source": [
    "**3.1**\n",
    "\n",
    "Write a function make_throws which takes as arguments the n_replications ( 𝑀) and the n_flips ( 𝑛), and returns a list (of size  𝑀) of proportions, with each proportion calculated by taking the ratio of heads to to total number of coin flips in each replication of  𝑛 coin tosses.  n_flips should be a python parameter whose value should default to 20 if unspecified when make_throws is called."
   ]
  },
  {
   "cell_type": "code",
   "execution_count": 27,
   "metadata": {
    "button": false,
    "new_sheet": false,
    "run_control": {
     "read_only": false
    }
   },
   "outputs": [],
   "source": [
    "def make_throws(x)"
   ]
  },
  {
   "cell_type": "markdown",
   "metadata": {
    "button": false,
    "new_sheet": false,
    "run_control": {
     "read_only": false
    }
   },
   "source": [
    "**3.2**"
   ]
  },
  {
   "cell_type": "code",
   "execution_count": null,
   "metadata": {
    "button": false,
    "new_sheet": false,
    "run_control": {
     "read_only": false
    }
   },
   "outputs": [],
   "source": [
    "## your code here"
   ]
  },
  {
   "cell_type": "code",
   "execution_count": 4,
   "metadata": {
    "button": false,
    "new_sheet": false,
    "run_control": {
     "read_only": false
    }
   },
   "outputs": [],
   "source": [
    "## code for your plot here"
   ]
  },
  {
   "cell_type": "markdown",
   "metadata": {
    "button": false,
    "new_sheet": false,
    "run_control": {
     "read_only": false
    }
   },
   "source": [
    "**3.3**"
   ]
  },
  {
   "cell_type": "code",
   "execution_count": 5,
   "metadata": {
    "button": false,
    "new_sheet": false,
    "run_control": {
     "read_only": false
    }
   },
   "outputs": [],
   "source": [
    "## your code here"
   ]
  },
  {
   "cell_type": "markdown",
   "metadata": {
    "button": false,
    "new_sheet": false,
    "run_control": {
     "read_only": false
    }
   },
   "source": [
    "**3.4**"
   ]
  },
  {
   "cell_type": "markdown",
   "metadata": {
    "button": false,
    "new_sheet": false,
    "run_control": {
     "read_only": false
    }
   },
   "source": [
    "** Your choice and explanation here **"
   ]
  },
  {
   "cell_type": "markdown",
   "metadata": {
    "button": false,
    "new_sheet": false,
    "run_control": {
     "read_only": false
    }
   },
   "source": [
    "**3.5**"
   ]
  },
  {
   "cell_type": "code",
   "execution_count": 6,
   "metadata": {
    "button": false,
    "new_sheet": false,
    "run_control": {
     "read_only": false
    }
   },
   "outputs": [],
   "source": [
    "## your code here"
   ]
  },
  {
   "cell_type": "markdown",
   "metadata": {
    "button": false,
    "new_sheet": false,
    "run_control": {
     "read_only": false
    }
   },
   "source": [
    "## Working With Distributions in Numpy/Scipy\n",
    "\n",
    "Earlier in this problem set we've been introduced to the Bernoulli \"aka coin-flip\" distribution and worked with it indirectly by using np.random.choice to make a random selection between two elements 'H' and 'T'.  Let's see if we can create comparable results by taking advantage of the machinery for working with other probability distributions in python using numpy and scipy."
   ]
  },
  {
   "cell_type": "markdown",
   "metadata": {
    "button": false,
    "new_sheet": false,
    "run_control": {
     "read_only": false
    }
   },
   "source": [
    "### Question 4: My Normal Binomial\n",
    "\n",
    "Let's use our coin-flipping machinery to do some experimentation with the binomial distribution.  The binomial distribution, often represented by  $k \\sim Binomial(n, p)$ is often described the number of successes in `n` Bernoulli trials with each trial having a probability of success `p`.  In other words,  if you flip a coin `n` times, and each coin-flip has a probability `p` of landing heads, then the number of heads you observe is a sample from a bernoulli distribution.\n",
    "\n",
    "**4.1**. Sample the binomial distribution using coin flips by writing a function `sample_binomial1` which takes in integer parameters `n` and `size`.  The output of `sample_binomial1` should be a list of length `size` observations with each observation being the outcome of flipping a coin `n` times and counting the number of heads.  By default `size` should be 1.  Your code should take advantage of the `throw_a_coin` function we defined above. \n",
    "\n",
    "**4.2**. Sample the binomial distribution directly using scipy.stats.binom.rvs by writing another function `sample_binomial2` that takes in integer parameters `n` and `size` as well as a float `p` parameter `p` where $p \\in [0 \\ldots 1]$.  The output of `sample_binomial2` should be a list of length `size` observations with each observation a sample of $Binomial(n, p)$ (taking advantage of scipy.stats.binom).  By default `size` should be 1 and `p` should be 0.5.\n",
    "\n",
    "**4.3**. Run sample_binomial1 with 25 and 200 as values of the `n` and `size` parameters respectively and store the result in `binomial_trials1`. Run sample_binomial2 with 25, 200 and 0.5 as values of the `n`, `size` and `p` parameters respectively and store the results in `binomial_trials2`.  Plot normed histograms of `binomial_trials1` and `binomial_trials2`.  On both histograms, overlay a plot of the pdf of $Binomial(n=25, p=0.5)$\n",
    "\n",
    "**4.4**. How do the plots in 4.3 compare?\n",
    "\n",
    "**4.5**. Find the mean and variance of `binomial_trials1`.  How do they compare to the mean and variance of $Binomial(n=25, p=0.5)$"
   ]
  },
  {
   "cell_type": "markdown",
   "metadata": {
    "button": false,
    "new_sheet": false,
    "run_control": {
     "read_only": false
    }
   },
   "source": [
    "#### Answers"
   ]
  },
  {
   "cell_type": "markdown",
   "metadata": {
    "button": false,
    "new_sheet": false,
    "run_control": {
     "read_only": false
    }
   },
   "source": [
    "**4.1**"
   ]
  },
  {
   "cell_type": "code",
   "execution_count": 34,
   "metadata": {
    "button": false,
    "new_sheet": false,
    "run_control": {
     "read_only": false
    }
   },
   "outputs": [],
   "source": [
    "## your code here"
   ]
  },
  {
   "cell_type": "markdown",
   "metadata": {
    "button": false,
    "new_sheet": false,
    "run_control": {
     "read_only": false
    }
   },
   "source": [
    "**4.2**"
   ]
  },
  {
   "cell_type": "code",
   "execution_count": 7,
   "metadata": {
    "button": false,
    "new_sheet": false,
    "run_control": {
     "read_only": false
    }
   },
   "outputs": [],
   "source": [
    "## your code here"
   ]
  },
  {
   "cell_type": "markdown",
   "metadata": {
    "button": false,
    "new_sheet": false,
    "run_control": {
     "read_only": false
    }
   },
   "source": [
    "**4.3**"
   ]
  },
  {
   "cell_type": "code",
   "execution_count": 8,
   "metadata": {
    "button": false,
    "new_sheet": false,
    "run_control": {
     "read_only": false
    }
   },
   "outputs": [],
   "source": [
    "## your code here"
   ]
  },
  {
   "cell_type": "markdown",
   "metadata": {
    "button": false,
    "new_sheet": false,
    "run_control": {
     "read_only": false
    }
   },
   "source": [
    "**4.4**"
   ]
  },
  {
   "cell_type": "markdown",
   "metadata": {
    "button": false,
    "new_sheet": false,
    "run_control": {
     "read_only": false
    }
   },
   "source": [
    "** Your explanation here **"
   ]
  },
  {
   "cell_type": "markdown",
   "metadata": {
    "button": false,
    "new_sheet": false,
    "run_control": {
     "read_only": false
    }
   },
   "source": [
    "**4.5**"
   ]
  },
  {
   "cell_type": "code",
   "execution_count": 9,
   "metadata": {
    "button": false,
    "new_sheet": false,
    "run_control": {
     "read_only": false
    }
   },
   "outputs": [],
   "source": [
    "## your code here "
   ]
  },
  {
   "cell_type": "markdown",
   "metadata": {
    "button": false,
    "new_sheet": false,
    "run_control": {
     "read_only": false
    }
   },
   "source": [
    "** Your explanation here **"
   ]
  },
  {
   "cell_type": "markdown",
   "metadata": {
    "button": false,
    "new_sheet": false,
    "run_control": {
     "read_only": false
    }
   },
   "source": [
    "## Testing Your Python Code"
   ]
  },
  {
   "cell_type": "markdown",
   "metadata": {
    "button": false,
    "new_sheet": false,
    "run_control": {
     "read_only": false
    }
   },
   "source": [
    "In the following section we're going to do a brief introduction to unit testing.  We do so not only because unit testing has become an increasingly important part of of the methodology of good software practices, but also because we plan on using unit tests as part of our own CS109 grading practices as a way of increasing rigor and repeatability decreasing complexity and manual workload in our evaluations of your code.  We'll provide an example unit test at the end of this section.\n",
    "\n",
    "### Introduction to unit testing "
   ]
  },
  {
   "cell_type": "code",
   "execution_count": 39,
   "metadata": {
    "button": false,
    "new_sheet": false,
    "run_control": {
     "read_only": false
    }
   },
   "outputs": [],
   "source": [
    "import ipytest"
   ]
  },
  {
   "cell_type": "markdown",
   "metadata": {
    "button": false,
    "new_sheet": false,
    "run_control": {
     "read_only": false
    }
   },
   "source": [
    "***Unit testing*** is one of the most important software testing methodologies.  Wikipedia describes unit testing as \"a software testing method by which individual units of source code, sets of one or more computer program modules together with associated control data, usage procedures, and operating procedures, are tested to determine whether they are fit for use.\"\n",
    "\n",
    "There are many different python libraries that support software testing in general and unit testing in particular.  PyTest is one of the most widely used and well-liked libraries for this purpose.  We've chosen to adopt PyTest (and ipytest which allows pytest to be used in ipython notebooks) for our testing needs and we'll do a very brief introduction to Pytest here so that you can become familiar with it too. \n",
    "\n",
    "If you recall the function that we provided you above `throw_a_coin`, which we'll reproduce here for convenience, it took a number and returned that many \"coin tosses\".  We'll start by seeing what happens when we give it different sizes of $N$.  If we give $N=0$, we should get an empty array of \"experiments\"."
   ]
  },
  {
   "cell_type": "code",
   "execution_count": 40,
   "metadata": {
    "button": false,
    "new_sheet": false,
    "run_control": {
     "read_only": false
    }
   },
   "outputs": [],
   "source": [
    "def throw_a_coin(N):\n",
    "    return np.random.choice(['H','T'], size=N)"
   ]
  },
  {
   "cell_type": "code",
   "execution_count": 41,
   "metadata": {
    "button": false,
    "new_sheet": false,
    "run_control": {
     "read_only": false
    }
   },
   "outputs": [
    {
     "data": {
      "text/plain": [
       "array([], \n",
       "      dtype='<U1')"
      ]
     },
     "execution_count": 41,
     "metadata": {},
     "output_type": "execute_result"
    }
   ],
   "source": [
    "throw_a_coin(0)"
   ]
  },
  {
   "cell_type": "markdown",
   "metadata": {
    "button": false,
    "new_sheet": false,
    "run_control": {
     "read_only": false
    }
   },
   "source": [
    "Great!  If we give it positive values of $N$ we should get that number of 'H's and 'T's."
   ]
  },
  {
   "cell_type": "code",
   "execution_count": 42,
   "metadata": {
    "button": false,
    "new_sheet": false,
    "run_control": {
     "read_only": false
    }
   },
   "outputs": [
    {
     "data": {
      "text/plain": [
       "array(['T', 'T', 'H', 'H', 'T'], \n",
       "      dtype='<U1')"
      ]
     },
     "execution_count": 42,
     "metadata": {},
     "output_type": "execute_result"
    }
   ],
   "source": [
    "throw_a_coin(5)"
   ]
  },
  {
   "cell_type": "code",
   "execution_count": 43,
   "metadata": {
    "button": false,
    "new_sheet": false,
    "run_control": {
     "read_only": false
    }
   },
   "outputs": [
    {
     "data": {
      "text/plain": [
       "array(['T', 'T', 'H', 'H', 'H', 'T', 'H', 'H'], \n",
       "      dtype='<U1')"
      ]
     },
     "execution_count": 43,
     "metadata": {},
     "output_type": "execute_result"
    }
   ],
   "source": [
    "throw_a_coin(8)"
   ]
  },
  {
   "cell_type": "markdown",
   "metadata": {
    "button": false,
    "new_sheet": false,
    "run_control": {
     "read_only": false
    }
   },
   "source": [
    "Exactly what we expected!  \n",
    "\n",
    "What happens if the input isn't a positive integer though?"
   ]
  },
  {
   "cell_type": "code",
   "execution_count": 44,
   "metadata": {
    "button": false,
    "new_sheet": false,
    "run_control": {
     "read_only": false
    }
   },
   "outputs": [
    {
     "ename": "TypeError",
     "evalue": "'float' object cannot be interpreted as an integer",
     "output_type": "error",
     "traceback": [
      "\u001b[0;31m---------------------------------------------------------------------------\u001b[0m",
      "\u001b[0;31mTypeError\u001b[0m                                 Traceback (most recent call last)",
      "\u001b[0;32m<ipython-input-44-7a98054470df>\u001b[0m in \u001b[0;36m<module>\u001b[0;34m()\u001b[0m\n\u001b[0;32m----> 1\u001b[0;31m \u001b[0mthrow_a_coin\u001b[0m\u001b[0;34m(\u001b[0m\u001b[0;36m4.5\u001b[0m\u001b[0;34m)\u001b[0m\u001b[0;34m\u001b[0m\u001b[0m\n\u001b[0m",
      "\u001b[0;32m<ipython-input-40-9b62022d816e>\u001b[0m in \u001b[0;36mthrow_a_coin\u001b[0;34m(N)\u001b[0m\n\u001b[1;32m      1\u001b[0m \u001b[0;32mdef\u001b[0m \u001b[0mthrow_a_coin\u001b[0m\u001b[0;34m(\u001b[0m\u001b[0mN\u001b[0m\u001b[0;34m)\u001b[0m\u001b[0;34m:\u001b[0m\u001b[0;34m\u001b[0m\u001b[0m\n\u001b[0;32m----> 2\u001b[0;31m     \u001b[0;32mreturn\u001b[0m \u001b[0mnp\u001b[0m\u001b[0;34m.\u001b[0m\u001b[0mrandom\u001b[0m\u001b[0;34m.\u001b[0m\u001b[0mchoice\u001b[0m\u001b[0;34m(\u001b[0m\u001b[0;34m[\u001b[0m\u001b[0;34m'H'\u001b[0m\u001b[0;34m,\u001b[0m\u001b[0;34m'T'\u001b[0m\u001b[0;34m]\u001b[0m\u001b[0;34m,\u001b[0m \u001b[0msize\u001b[0m\u001b[0;34m=\u001b[0m\u001b[0mN\u001b[0m\u001b[0;34m)\u001b[0m\u001b[0;34m\u001b[0m\u001b[0m\n\u001b[0m",
      "\u001b[0;32mmtrand.pyx\u001b[0m in \u001b[0;36mmtrand.RandomState.choice\u001b[0;34m()\u001b[0m\n",
      "\u001b[0;32mmtrand.pyx\u001b[0m in \u001b[0;36mmtrand.RandomState.randint\u001b[0;34m()\u001b[0m\n",
      "\u001b[0;32mmtrand.pyx\u001b[0m in \u001b[0;36mmtrand.RandomState.randint\u001b[0;34m()\u001b[0m\n",
      "\u001b[0;32mrandint_helpers.pxi\u001b[0m in \u001b[0;36mmtrand._rand_int64\u001b[0;34m()\u001b[0m\n",
      "\u001b[0;31mTypeError\u001b[0m: 'float' object cannot be interpreted as an integer"
     ]
    }
   ],
   "source": [
    "throw_a_coin(4.5)"
   ]
  },
  {
   "cell_type": "markdown",
   "metadata": {
    "run_control": {}
   },
   "source": [
    "or "
   ]
  },
  {
   "cell_type": "code",
   "execution_count": 45,
   "metadata": {
    "button": false,
    "new_sheet": false,
    "run_control": {
     "read_only": false
    }
   },
   "outputs": [
    {
     "ename": "ValueError",
     "evalue": "negative dimensions are not allowed",
     "output_type": "error",
     "traceback": [
      "\u001b[0;31m---------------------------------------------------------------------------\u001b[0m",
      "\u001b[0;31mValueError\u001b[0m                                Traceback (most recent call last)",
      "\u001b[0;32m<ipython-input-45-8560c28a4e91>\u001b[0m in \u001b[0;36m<module>\u001b[0;34m()\u001b[0m\n\u001b[0;32m----> 1\u001b[0;31m \u001b[0mthrow_a_coin\u001b[0m\u001b[0;34m(\u001b[0m\u001b[0;34m-\u001b[0m\u001b[0;36m4\u001b[0m\u001b[0;34m)\u001b[0m\u001b[0;34m\u001b[0m\u001b[0m\n\u001b[0m",
      "\u001b[0;32m<ipython-input-40-9b62022d816e>\u001b[0m in \u001b[0;36mthrow_a_coin\u001b[0;34m(N)\u001b[0m\n\u001b[1;32m      1\u001b[0m \u001b[0;32mdef\u001b[0m \u001b[0mthrow_a_coin\u001b[0m\u001b[0;34m(\u001b[0m\u001b[0mN\u001b[0m\u001b[0;34m)\u001b[0m\u001b[0;34m:\u001b[0m\u001b[0;34m\u001b[0m\u001b[0m\n\u001b[0;32m----> 2\u001b[0;31m     \u001b[0;32mreturn\u001b[0m \u001b[0mnp\u001b[0m\u001b[0;34m.\u001b[0m\u001b[0mrandom\u001b[0m\u001b[0;34m.\u001b[0m\u001b[0mchoice\u001b[0m\u001b[0;34m(\u001b[0m\u001b[0;34m[\u001b[0m\u001b[0;34m'H'\u001b[0m\u001b[0;34m,\u001b[0m\u001b[0;34m'T'\u001b[0m\u001b[0;34m]\u001b[0m\u001b[0;34m,\u001b[0m \u001b[0msize\u001b[0m\u001b[0;34m=\u001b[0m\u001b[0mN\u001b[0m\u001b[0;34m)\u001b[0m\u001b[0;34m\u001b[0m\u001b[0m\n\u001b[0m",
      "\u001b[0;32mmtrand.pyx\u001b[0m in \u001b[0;36mmtrand.RandomState.choice\u001b[0;34m()\u001b[0m\n",
      "\u001b[0;32mmtrand.pyx\u001b[0m in \u001b[0;36mmtrand.RandomState.randint\u001b[0;34m()\u001b[0m\n",
      "\u001b[0;32mmtrand.pyx\u001b[0m in \u001b[0;36mmtrand.RandomState.randint\u001b[0;34m()\u001b[0m\n",
      "\u001b[0;32mrandint_helpers.pxi\u001b[0m in \u001b[0;36mmtrand._rand_int64\u001b[0;34m()\u001b[0m\n",
      "\u001b[0;31mValueError\u001b[0m: negative dimensions are not allowed"
     ]
    }
   ],
   "source": [
    "throw_a_coin(-4)"
   ]
  },
  {
   "cell_type": "markdown",
   "metadata": {
    "button": false,
    "new_sheet": false,
    "run_control": {
     "read_only": false
    }
   },
   "source": [
    "It looks like for both real numbers and negative numbers, we get two kinds of errors a `TypeError` and a `ValueError`.  We just engaged in one of the most rudimentary forms of testing, trial and error.  We can use pytest to automate this process by writing some functions that will automatically (and potentially repeatedly) test individual units of our code methodology.  These are called ***unit tests***.\n",
    "\n",
    "Before we write our tests, let's consider what we would think of as the appropriate behavior for `throw_a_coin` under the conditions we considered above.  If `throw_a_coin` receives positive integer input, we want it to behave exactly as it currently does -- returning an output consisting of a list of characters 'H' or 'T' with the length of the list equal to the positive integer input. For a positive floating point input, we want `throw_a_coin_properly` to treat the input as if it were rounded down to the nearest integer (thus returning a list of 'H' or 'T' integers whose length is the same as the input rounded down to the next highest integer.  For a any negative number input or an input of 0, we want `throw_a_coin_properly` to return an empty list."
   ]
  },
  {
   "cell_type": "markdown",
   "metadata": {
    "button": false,
    "new_sheet": false,
    "run_control": {
     "read_only": false
    }
   },
   "source": [
    "We create pytest tests by writing functions that start or end with \"test\".  We'll use the **convention** that our tests will start with \"test\".  \n",
    "\n",
    "We begin the code cell with ipytest's clean_tests function as a way to clear out the results of previous tests starting with \"test_throw_a_coin\" (the * is the standard wild card character here).\n",
    "\n"
   ]
  },
  {
   "cell_type": "code",
   "execution_count": 46,
   "metadata": {
    "button": false,
    "new_sheet": false,
    "run_control": {
     "read_only": false
    }
   },
   "outputs": [
    {
     "name": "stderr",
     "output_type": "stream",
     "text": [
      "unittest.case.FunctionTestCase (test_throw_a_coin_float) ... ERROR\n",
      "unittest.case.FunctionTestCase (test_throw_a_coin_length_positive) ... ok\n",
      "unittest.case.FunctionTestCase (test_throw_a_coin_length_zero) ... ok\n",
      "unittest.case.FunctionTestCase (test_throw_a_coin_negative) ... ERROR\n",
      "\n",
      "======================================================================\n",
      "ERROR: unittest.case.FunctionTestCase (test_throw_a_coin_float)\n",
      "----------------------------------------------------------------------\n",
      "Traceback (most recent call last):\n",
      "  File \"<ipython-input-46-78a86d656b91>\", line 22, in test_throw_a_coin_float\n",
      "    assert len(throw_a_coin(n)) == np.floor(n)\n",
      "  File \"<ipython-input-40-9b62022d816e>\", line 2, in throw_a_coin\n",
      "    return np.random.choice(['H','T'], size=N)\n",
      "  File \"mtrand.pyx\", line 1147, in mtrand.RandomState.choice\n",
      "  File \"mtrand.pyx\", line 979, in mtrand.RandomState.randint\n",
      "  File \"mtrand.pyx\", line 980, in mtrand.RandomState.randint\n",
      "  File \"randint_helpers.pxi\", line 253, in mtrand._rand_int64\n",
      "TypeError: 'numpy.float64' object cannot be interpreted as an integer\n",
      "\n",
      "======================================================================\n",
      "ERROR: unittest.case.FunctionTestCase (test_throw_a_coin_negative)\n",
      "----------------------------------------------------------------------\n",
      "Traceback (most recent call last):\n",
      "  File \"<ipython-input-46-78a86d656b91>\", line 28, in test_throw_a_coin_negative\n",
      "    assert len(throw_a_coin(n)) == 0\n",
      "  File \"<ipython-input-40-9b62022d816e>\", line 2, in throw_a_coin\n",
      "    return np.random.choice(['H','T'], size=N)\n",
      "  File \"mtrand.pyx\", line 1147, in mtrand.RandomState.choice\n",
      "  File \"mtrand.pyx\", line 979, in mtrand.RandomState.randint\n",
      "  File \"mtrand.pyx\", line 980, in mtrand.RandomState.randint\n",
      "  File \"randint_helpers.pxi\", line 253, in mtrand._rand_int64\n",
      "ValueError: negative dimensions are not allowed\n",
      "\n",
      "----------------------------------------------------------------------\n",
      "Ran 4 tests in 0.006s\n",
      "\n",
      "FAILED (errors=2)\n"
     ]
    }
   ],
   "source": [
    "## the * after test_throw_a_coin tells this code cell to clean out the results\n",
    "## of all tests starting with test_throw_a_coin\n",
    "ipytest.clean_tests(\"test_throw_a_coin*\")\n",
    "\n",
    "## run throw_a_coin with a variety of positive integer inputs (all numbers between 1 and 20) and\n",
    "## verify that the length of the output list (e.g ['H', 'H', 'T', 'H', 'T']) matches the input integer\n",
    "def test_throw_a_coin_length_positive():\n",
    "    for n in range(1,20):\n",
    "        assert len(throw_a_coin(n)) == n\n",
    "\n",
    "## verify that throw_a_coin produces an empty list (i.e. a list of length 0) if provide with an input\n",
    "## of 0\n",
    "def test_throw_a_coin_length_zero():\n",
    "    ## should be the empty array\n",
    "    assert len(throw_a_coin(0)) == 0\n",
    "    \n",
    "\n",
    "## verify that given a positive floating point input (i.e. 4.34344298547201), throw_a_coin produces a list of\n",
    "## coin flips of length equal to highest integer less than the input\n",
    "def test_throw_a_coin_float():\n",
    "    for n in np.random.exponential(7, size=5):\n",
    "        assert len(throw_a_coin(n)) == np.floor(n)\n",
    "        \n",
    "\n",
    "## verify that given any negative input (e.g. -323.4), throw_a_coin produces an empty\n",
    "def test_throw_a_coin_negative():\n",
    "    for n in range(-7, 0):\n",
    "        assert len(throw_a_coin(n)) == 0\n",
    "\n",
    "        \n",
    "ipytest.run_tests()"
   ]
  },
  {
   "cell_type": "markdown",
   "metadata": {
    "button": false,
    "new_sheet": false,
    "run_control": {
     "read_only": false
    }
   },
   "source": [
    "As you see, we were able to use pytest (and ipytest which allows us to run pytest tests in our ipython notebooks) to automate the tests that we constructed manually before and get the same errors and successes.  Now time to fix our code and write our own test!"
   ]
  },
  {
   "cell_type": "markdown",
   "metadata": {
    "button": false,
    "new_sheet": false,
    "run_control": {
     "read_only": false
    }
   },
   "source": [
    "### Question 5: You Better Test Yourself before You Wreck Yourself!\n",
    "\n",
    "Now it's time to fix `throw_a_coin` so that it passes the tests we've written above as well as add our own test to the mix!\n",
    "\n",
    "**5.1**. Write a new function called `throw_a_coin_properly` that will pass the tests that we saw above.  For your convenience we'll provide a new jupyter notebook cell with the tests rewritten for the new function.  All the tests should pass.  For a positive floating point input, we want `throw_a_coin_properly` to treat the input as if it were rounded down to the nearest integer.  For a any negative number input, we want `throw_a_coin_properly` to treat the input as if it were 0.\n",
    "\n",
    "**5.2**. Write a new test for `throw_a_coin_properly` that verifies that all the elements of the resultant arrays are 'H' or 'T'."
   ]
  },
  {
   "cell_type": "markdown",
   "metadata": {
    "button": false,
    "new_sheet": false,
    "run_control": {
     "read_only": false
    }
   },
   "source": [
    "#### Answers"
   ]
  },
  {
   "cell_type": "markdown",
   "metadata": {
    "button": false,
    "new_sheet": false,
    "run_control": {
     "read_only": false
    }
   },
   "source": [
    "**5.1**"
   ]
  },
  {
   "cell_type": "code",
   "execution_count": 53,
   "metadata": {
    "button": false,
    "new_sheet": false,
    "run_control": {
     "read_only": false
    }
   },
   "outputs": [],
   "source": [
    "# your code here"
   ]
  },
  {
   "cell_type": "code",
   "execution_count": 11,
   "metadata": {
    "button": false,
    "new_sheet": false,
    "run_control": {
     "read_only": false
    }
   },
   "outputs": [],
   "source": [
    "ipytest.clean_tests(\"test_throw_a_coin*\")\n",
    "\n",
    "def test_throw_a_coin_properly_length_positive():\n",
    "    for n in range(1,20):\n",
    "        assert len(throw_a_coin_properly(n)) == n\n",
    "        \n",
    "\n",
    "def test_throw_a_coin_properly_length_zero():\n",
    "    ## should be the empty array\n",
    "    assert len(throw_a_coin_properly(0)) == 0\n",
    "    \n",
    "\n",
    "def test_throw_a_coin_properly_float():\n",
    "    \n",
    "    for n in np.random.exponential(7, size=5):\n",
    "        assert len(throw_a_coin_properly(n)) == np.floor(n)\n",
    "        \n",
    "\n",
    "def test_throw_a_coin_properly_negative():\n",
    "    \n",
    "    for n in range(-7, 0):\n",
    "        assert len(throw_a_coin_properly(n)) == 0\n",
    "\n",
    "        \n",
    "ipytest.run_tests()"
   ]
  },
  {
   "cell_type": "markdown",
   "metadata": {
    "button": false,
    "new_sheet": false,
    "run_control": {
     "read_only": false
    }
   },
   "source": [
    "**5.2** "
   ]
  },
  {
   "cell_type": "code",
   "execution_count": null,
   "metadata": {
    "button": false,
    "new_sheet": false,
    "run_control": {
     "read_only": false
    }
   },
   "outputs": [],
   "source": [
    "ipytest.clean_tests(\"test_throw_a_coin*\")\n",
    "\n",
    "## write a test that verifies you don't have any other elements except H's and T's\n",
    "def test_throw_a_coin_properly_verify_H_T():\n",
    "    \n",
    "    # your code here\n",
    "\n",
    "        \n",
    "ipytest.run_tests()"
   ]
  },
  {
   "cell_type": "code",
   "execution_count": null,
   "metadata": {},
   "outputs": [],
   "source": []
  }
 ],
 "metadata": {
  "anaconda-cloud": {},
  "kernelspec": {
   "display_name": "Python 3",
   "language": "python",
   "name": "python3"
  },
  "language_info": {
   "codemirror_mode": {
    "name": "ipython",
    "version": 3
   },
   "file_extension": ".py",
   "mimetype": "text/x-python",
   "name": "python",
   "nbconvert_exporter": "python",
   "pygments_lexer": "ipython3",
   "version": "3.7.1"
  }
 },
 "nbformat": 4,
 "nbformat_minor": 2
}
